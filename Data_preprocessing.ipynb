{
 "cells": [
  {
   "cell_type": "code",
   "execution_count": 1,
   "metadata": {},
   "outputs": [
    {
     "data": {
      "text/html": [
       "Current session configs: <tt>{'executorMemory': '5G', 'executorCores': 4, 'kind': 'pyspark'}</tt><br>"
      ],
      "text/plain": [
       "<IPython.core.display.HTML object>"
      ]
     },
     "metadata": {},
     "output_type": "display_data"
    },
    {
     "data": {
      "text/html": [
       "<table>\n",
       "<tr><th>ID</th><th>YARN Application ID</th><th>Kind</th><th>State</th><th>Spark UI</th><th>Driver log</th><th>Current session?</th></tr><tr><td>3</td><td>application_1614566963109_0004</td><td>pyspark</td><td>idle</td><td><a target=\"_blank\" href=\"http://ip-172-31-13-94.us-east-2.compute.internal:20888/proxy/application_1614566963109_0004/\">Link</a></td><td><a target=\"_blank\" href=\"http://ip-172-31-9-108.us-east-2.compute.internal:8042/node/containerlogs/container_1614566963109_0004_01_000001/livy\">Link</a></td><td></td></tr><tr><td>7</td><td>application_1614566963109_0008</td><td>pyspark</td><td>idle</td><td><a target=\"_blank\" href=\"http://ip-172-31-13-94.us-east-2.compute.internal:20888/proxy/application_1614566963109_0008/\">Link</a></td><td><a target=\"_blank\" href=\"http://ip-172-31-9-108.us-east-2.compute.internal:8042/node/containerlogs/container_1614566963109_0008_01_000001/livy\">Link</a></td><td></td></tr></table>"
      ],
      "text/plain": [
       "<IPython.core.display.HTML object>"
      ]
     },
     "metadata": {},
     "output_type": "display_data"
    }
   ],
   "source": [
    "%%configure -f\n",
    "{\n",
    "    \"executorMemory\": \"5G\",\n",
    "    \"executorCores\" : 4\n",
    "}"
   ]
  },
  {
   "cell_type": "code",
   "execution_count": 2,
   "metadata": {},
   "outputs": [
    {
     "data": {
      "application/vnd.jupyter.widget-view+json": {
       "model_id": "7f8eac4c1d1a4231af944a60891c69ce",
       "version_major": 2,
       "version_minor": 0
      },
      "text/plain": [
       "VBox()"
      ]
     },
     "metadata": {},
     "output_type": "display_data"
    },
    {
     "name": "stdout",
     "output_type": "stream",
     "text": [
      "Starting Spark application\n"
     ]
    },
    {
     "data": {
      "text/html": [
       "<table>\n",
       "<tr><th>ID</th><th>YARN Application ID</th><th>Kind</th><th>State</th><th>Spark UI</th><th>Driver log</th><th>Current session?</th></tr><tr><td>8</td><td>application_1614566963109_0009</td><td>pyspark</td><td>idle</td><td><a target=\"_blank\" href=\"http://ip-172-31-13-94.us-east-2.compute.internal:20888/proxy/application_1614566963109_0009/\">Link</a></td><td><a target=\"_blank\" href=\"http://ip-172-31-9-108.us-east-2.compute.internal:8042/node/containerlogs/container_1614566963109_0009_01_000002/livy\">Link</a></td><td>✔</td></tr></table>"
      ],
      "text/plain": [
       "<IPython.core.display.HTML object>"
      ]
     },
     "metadata": {},
     "output_type": "display_data"
    },
    {
     "data": {
      "application/vnd.jupyter.widget-view+json": {
       "model_id": "",
       "version_major": 2,
       "version_minor": 0
      },
      "text/plain": [
       "FloatProgress(value=0.0, bar_style='info', description='Progress:', layout=Layout(height='25px', width='50%'),…"
      ]
     },
     "metadata": {},
     "output_type": "display_data"
    },
    {
     "name": "stdout",
     "output_type": "stream",
     "text": [
      "SparkSession available as 'spark'.\n"
     ]
    },
    {
     "data": {
      "application/vnd.jupyter.widget-view+json": {
       "model_id": "",
       "version_major": 2,
       "version_minor": 0
      },
      "text/plain": [
       "FloatProgress(value=0.0, bar_style='info', description='Progress:', layout=Layout(height='25px', width='50%'),…"
      ]
     },
     "metadata": {},
     "output_type": "display_data"
    }
   ],
   "source": [
    "from pyspark.sql import SparkSession\n",
    "from pyspark.sql.types import *\n",
    "from pyspark.sql import Row\n",
    "# from pyspark.sql.function import *\n",
    "from pyspark.sql.functions import isnan, isnull\n",
    "\n",
    "ss = SparkSession.builder.getOrCreate()"
   ]
  },
  {
   "cell_type": "code",
   "execution_count": 3,
   "metadata": {},
   "outputs": [
    {
     "data": {
      "application/vnd.jupyter.widget-view+json": {
       "model_id": "b5d4fdd4be3649968c79a75db5b12800",
       "version_major": 2,
       "version_minor": 0
      },
      "text/plain": [
       "VBox()"
      ]
     },
     "metadata": {},
     "output_type": "display_data"
    },
    {
     "data": {
      "application/vnd.jupyter.widget-view+json": {
       "model_id": "",
       "version_major": 2,
       "version_minor": 0
      },
      "text/plain": [
       "FloatProgress(value=0.0, bar_style='info', description='Progress:', layout=Layout(height='25px', width='50%'),…"
      ]
     },
     "metadata": {},
     "output_type": "display_data"
    }
   ],
   "source": [
    "df = ss.read.csv('s3://msds694-dataset/CA_2013_onwards.csv', header=True)"
   ]
  },
  {
   "cell_type": "markdown",
   "metadata": {},
   "source": [
    "## 1. Check all the column names"
   ]
  },
  {
   "cell_type": "code",
   "execution_count": 4,
   "metadata": {},
   "outputs": [
    {
     "data": {
      "application/vnd.jupyter.widget-view+json": {
       "model_id": "57b8b3c5594440e3aa8306c3edaa1c57",
       "version_major": 2,
       "version_minor": 0
      },
      "text/plain": [
       "VBox()"
      ]
     },
     "metadata": {},
     "output_type": "display_data"
    },
    {
     "data": {
      "application/vnd.jupyter.widget-view+json": {
       "model_id": "",
       "version_major": 2,
       "version_minor": 0
      },
      "text/plain": [
       "FloatProgress(value=0.0, bar_style='info', description='Progress:', layout=Layout(height='25px', width='50%'),…"
      ]
     },
     "metadata": {},
     "output_type": "display_data"
    },
    {
     "name": "stdout",
     "output_type": "stream",
     "text": [
      "['id', 'state', 'stop_date', 'stop_time', 'location_raw', 'county_name', 'county_fips', 'fine_grained_location', 'police_department', 'driver_gender', 'driver_age_raw', 'driver_age', 'driver_race_raw', 'driver_race', 'violation_raw', 'violation', 'search_conducted', 'search_type_raw', 'search_type', 'contraband_found', 'stop_outcome', 'is_arrested', 'ethnicity']"
     ]
    }
   ],
   "source": [
    "column_names = df.columns\n",
    "column_names"
   ]
  },
  {
   "cell_type": "markdown",
   "metadata": {},
   "source": [
    "## 2. Check if there exsits empty columns"
   ]
  },
  {
   "cell_type": "code",
   "execution_count": 5,
   "metadata": {},
   "outputs": [
    {
     "data": {
      "application/vnd.jupyter.widget-view+json": {
       "model_id": "101a24632dbc47a9913d9edf92f0717b",
       "version_major": 2,
       "version_minor": 0
      },
      "text/plain": [
       "VBox()"
      ]
     },
     "metadata": {},
     "output_type": "display_data"
    },
    {
     "data": {
      "application/vnd.jupyter.widget-view+json": {
       "model_id": "",
       "version_major": 2,
       "version_minor": 0
      },
      "text/plain": [
       "FloatProgress(value=0.0, bar_style='info', description='Progress:', layout=Layout(height='25px', width='50%'),…"
      ]
     },
     "metadata": {},
     "output_type": "display_data"
    },
    {
     "name": "stdout",
     "output_type": "stream",
     "text": [
      "14536338"
     ]
    }
   ],
   "source": [
    "count_rows = df.count()\n",
    "count_rows"
   ]
  },
  {
   "cell_type": "code",
   "execution_count": 6,
   "metadata": {},
   "outputs": [
    {
     "data": {
      "application/vnd.jupyter.widget-view+json": {
       "model_id": "41bb1b39ebc44596b60d750d27acf9e3",
       "version_major": 2,
       "version_minor": 0
      },
      "text/plain": [
       "VBox()"
      ]
     },
     "metadata": {},
     "output_type": "display_data"
    },
    {
     "data": {
      "application/vnd.jupyter.widget-view+json": {
       "model_id": "",
       "version_major": 2,
       "version_minor": 0
      },
      "text/plain": [
       "FloatProgress(value=0.0, bar_style='info', description='Progress:', layout=Layout(height='25px', width='50%'),…"
      ]
     },
     "metadata": {},
     "output_type": "display_data"
    },
    {
     "name": "stdout",
     "output_type": "stream",
     "text": [
      "id has 0 empty rows \n",
      "state has 0 empty rows \n",
      "stop_date has 0 empty rows \n",
      "stop_time has 14536338 empty rows \n",
      "location_raw has 4 empty rows \n",
      "county_name has 1076319 empty rows \n",
      "county_fips has 1076319 empty rows \n",
      "fine_grained_location has 14536338 empty rows \n",
      "police_department has 14536338 empty rows \n",
      "driver_gender has 0 empty rows \n",
      "driver_age_raw has 0 empty rows \n",
      "driver_age has 14536338 empty rows \n",
      "driver_race_raw has 0 empty rows \n",
      "driver_race has 0 empty rows \n",
      "violation_raw has 0 empty rows \n",
      "violation has 0 empty rows \n",
      "search_conducted has 0 empty rows \n",
      "search_type_raw has 0 empty rows \n",
      "search_type has 14057611 empty rows \n",
      "contraband_found has 456292 empty rows \n",
      "stop_outcome has 0 empty rows \n",
      "is_arrested has 0 empty rows \n",
      "ethnicity has 0 empty rows"
     ]
    }
   ],
   "source": [
    "for col in column_names:\n",
    "    count_nan = df.filter(isnull(col)).count()\n",
    "    print(col + ' has ' + str(count_nan) + ' empty rows ')"
   ]
  },
  {
   "cell_type": "markdown",
   "metadata": {},
   "source": [
    "### There exsist some empty columns: ['stop_time', 'fine_grained_location', 'police_department', 'driver_age', 'search_type'], so we will drop them"
   ]
  },
  {
   "cell_type": "markdown",
   "metadata": {},
   "source": [
    "## 3. Check if there exists meaningless columns"
   ]
  },
  {
   "cell_type": "code",
   "execution_count": 7,
   "metadata": {},
   "outputs": [
    {
     "data": {
      "application/vnd.jupyter.widget-view+json": {
       "model_id": "c80a4fd9d5654ec3927930b63169907f",
       "version_major": 2,
       "version_minor": 0
      },
      "text/plain": [
       "VBox()"
      ]
     },
     "metadata": {},
     "output_type": "display_data"
    },
    {
     "data": {
      "application/vnd.jupyter.widget-view+json": {
       "model_id": "",
       "version_major": 2,
       "version_minor": 0
      },
      "text/plain": [
       "FloatProgress(value=0.0, bar_style='info', description='Progress:', layout=Layout(height='25px', width='50%'),…"
      ]
     },
     "metadata": {},
     "output_type": "display_data"
    },
    {
     "name": "stdout",
     "output_type": "stream",
     "text": [
      "+---------------+\n",
      "|             id|\n",
      "+---------------+\n",
      "|CA-2013-0000001|\n",
      "|CA-2013-0000002|\n",
      "|CA-2013-0000003|\n",
      "|CA-2013-0000004|\n",
      "|CA-2013-0000005|\n",
      "+---------------+\n",
      "only showing top 5 rows"
     ]
    }
   ],
   "source": [
    "df.select('id').show(5)"
   ]
  },
  {
   "cell_type": "markdown",
   "metadata": {},
   "source": [
    "### id means violation id, which is not related to target so we will drop it otherwise the final model could overfit"
   ]
  },
  {
   "cell_type": "code",
   "execution_count": 8,
   "metadata": {},
   "outputs": [
    {
     "data": {
      "application/vnd.jupyter.widget-view+json": {
       "model_id": "7f03346f552f464b88649dcd895864c4",
       "version_major": 2,
       "version_minor": 0
      },
      "text/plain": [
       "VBox()"
      ]
     },
     "metadata": {},
     "output_type": "display_data"
    },
    {
     "data": {
      "application/vnd.jupyter.widget-view+json": {
       "model_id": "",
       "version_major": 2,
       "version_minor": 0
      },
      "text/plain": [
       "FloatProgress(value=0.0, bar_style='info', description='Progress:', layout=Layout(height='25px', width='50%'),…"
      ]
     },
     "metadata": {},
     "output_type": "display_data"
    },
    {
     "name": "stdout",
     "output_type": "stream",
     "text": [
      "+-----+--------+\n",
      "|state|   count|\n",
      "+-----+--------+\n",
      "|   CA|14536338|\n",
      "+-----+--------+"
     ]
    }
   ],
   "source": [
    "df.select('state').groupBy('state').count().show()"
   ]
  },
  {
   "cell_type": "markdown",
   "metadata": {},
   "source": [
    "### This dataset is only about CA so this column is useless, drop it"
   ]
  },
  {
   "cell_type": "markdown",
   "metadata": {},
   "source": [
    "## 4. Check if there exsist paired columns that have same meaning"
   ]
  },
  {
   "cell_type": "code",
   "execution_count": 9,
   "metadata": {},
   "outputs": [
    {
     "data": {
      "application/vnd.jupyter.widget-view+json": {
       "model_id": "5e383b5b5a344a8984cfcab51e41478b",
       "version_major": 2,
       "version_minor": 0
      },
      "text/plain": [
       "VBox()"
      ]
     },
     "metadata": {},
     "output_type": "display_data"
    },
    {
     "data": {
      "application/vnd.jupyter.widget-view+json": {
       "model_id": "",
       "version_major": 2,
       "version_minor": 0
      },
      "text/plain": [
       "FloatProgress(value=0.0, bar_style='info', description='Progress:', layout=Layout(height='25px', width='50%'),…"
      ]
     },
     "metadata": {},
     "output_type": "display_data"
    },
    {
     "name": "stdout",
     "output_type": "stream",
     "text": [
      "+--------------------+-------+\n",
      "|         county_name|  count|\n",
      "+--------------------+-------+\n",
      "|       Sutter County|  84115|\n",
      "|       Colusa County|  47871|\n",
      "|       Madera County|  84561|\n",
      "|         Yolo County|  76907|\n",
      "|    Del Norte County|  35058|\n",
      "|       Solano County| 262531|\n",
      "|    Riverside County| 532606|\n",
      "|        Modoc County|  20459|\n",
      "|   Sacramento County| 505118|\n",
      "|       Merced County| 198098|\n",
      "|     Humboldt County|  63186|\n",
      "|   Stanislaus County| 135572|\n",
      "|San Bernardino Co...| 867974|\n",
      "|         Mono County|  48007|\n",
      "|                null|1076319|\n",
      "|       Fresno County| 269988|\n",
      "|  Santa Clara County| 299475|\n",
      "|        Kings County|  74262|\n",
      "|       Tehama County| 103669|\n",
      "|       Alpine County|  43413|\n",
      "+--------------------+-------+\n",
      "only showing top 20 rows"
     ]
    }
   ],
   "source": [
    "df.select('county_name').groupBy('county_name').count().show()"
   ]
  },
  {
   "cell_type": "code",
   "execution_count": 10,
   "metadata": {},
   "outputs": [
    {
     "data": {
      "application/vnd.jupyter.widget-view+json": {
       "model_id": "84fac419872c49c792f8310fdf4e3c96",
       "version_major": 2,
       "version_minor": 0
      },
      "text/plain": [
       "VBox()"
      ]
     },
     "metadata": {},
     "output_type": "display_data"
    },
    {
     "data": {
      "application/vnd.jupyter.widget-view+json": {
       "model_id": "",
       "version_major": 2,
       "version_minor": 0
      },
      "text/plain": [
       "FloatProgress(value=0.0, bar_style='info', description='Progress:', layout=Layout(height='25px', width='50%'),…"
      ]
     },
     "metadata": {},
     "output_type": "display_data"
    },
    {
     "name": "stdout",
     "output_type": "stream",
     "text": [
      "+-----------+-------+\n",
      "|county_fips|  count|\n",
      "+-----------+-------+\n",
      "|      06063|  30284|\n",
      "|      06079| 147460|\n",
      "|      06057|  94883|\n",
      "|      06013| 173356|\n",
      "|      06065| 532606|\n",
      "|      06045| 126502|\n",
      "|      06005|  38521|\n",
      "|      06109|  54473|\n",
      "|      06085| 299475|\n",
      "|      06099| 135572|\n",
      "|      06031|  74262|\n",
      "|       null|1076319|\n",
      "|      06069| 197610|\n",
      "|      06035|  56636|\n",
      "|      06017|  78010|\n",
      "|      06077| 254279|\n",
      "|      06019| 269988|\n",
      "|      06033|  38911|\n",
      "|      06001| 834219|\n",
      "|      06081| 217778|\n",
      "+-----------+-------+\n",
      "only showing top 20 rows"
     ]
    }
   ],
   "source": [
    "df.select('county_fips').groupBy('county_fips').count().show()"
   ]
  },
  {
   "cell_type": "markdown",
   "metadata": {},
   "source": [
    "### 'county_name' and 'county_fips' have same meaning, we'll choose 'county_fips' for convenience and drop the other one"
   ]
  },
  {
   "cell_type": "code",
   "execution_count": 11,
   "metadata": {},
   "outputs": [
    {
     "data": {
      "application/vnd.jupyter.widget-view+json": {
       "model_id": "d279cef70a6d4b38b58aa9a8240c53fe",
       "version_major": 2,
       "version_minor": 0
      },
      "text/plain": [
       "VBox()"
      ]
     },
     "metadata": {},
     "output_type": "display_data"
    },
    {
     "data": {
      "application/vnd.jupyter.widget-view+json": {
       "model_id": "",
       "version_major": 2,
       "version_minor": 0
      },
      "text/plain": [
       "FloatProgress(value=0.0, bar_style='info', description='Progress:', layout=Layout(height='25px', width='50%'),…"
      ]
     },
     "metadata": {},
     "output_type": "display_data"
    },
    {
     "name": "stdout",
     "output_type": "stream",
     "text": [
      "+--------------------+-------+\n",
      "|     driver_race_raw|  count|\n",
      "+--------------------+-------+\n",
      "|        Asian Indian|  28063|\n",
      "|              Indian|  37413|\n",
      "|Other Pacific Isl...|   7585|\n",
      "|             Chinese|   8845|\n",
      "|            Hawaiian|    612|\n",
      "|            Japanese|   1931|\n",
      "|            Filipino|  17955|\n",
      "|          Vietnamese|   5226|\n",
      "|               Other|1126556|\n",
      "|              Samoan|   1528|\n",
      "|           Guamanian|    673|\n",
      "|              Korean|   3829|\n",
      "|             Laotian|    282|\n",
      "|               White|6184252|\n",
      "|           Cambodian|    382|\n",
      "|            Hispanic|4954207|\n",
      "|               Black|1221604|\n",
      "|         Other Asian| 935395|\n",
      "+--------------------+-------+"
     ]
    }
   ],
   "source": [
    "df.select('driver_race_raw').groupBy('driver_race_raw').count().show()"
   ]
  },
  {
   "cell_type": "code",
   "execution_count": 12,
   "metadata": {},
   "outputs": [
    {
     "data": {
      "application/vnd.jupyter.widget-view+json": {
       "model_id": "c6b9bb4c9692484cbe19dfae627bbc41",
       "version_major": 2,
       "version_minor": 0
      },
      "text/plain": [
       "VBox()"
      ]
     },
     "metadata": {},
     "output_type": "display_data"
    },
    {
     "data": {
      "application/vnd.jupyter.widget-view+json": {
       "model_id": "",
       "version_major": 2,
       "version_minor": 0
      },
      "text/plain": [
       "FloatProgress(value=0.0, bar_style='info', description='Progress:', layout=Layout(height='25px', width='50%'),…"
      ]
     },
     "metadata": {},
     "output_type": "display_data"
    },
    {
     "name": "stdout",
     "output_type": "stream",
     "text": [
      "+--------------------+-------+\n",
      "|     driver_race_raw|  count|\n",
      "+--------------------+-------+\n",
      "|        Asian Indian|  28063|\n",
      "|              Indian|  37413|\n",
      "|Other Pacific Isl...|   7585|\n",
      "|             Chinese|   8845|\n",
      "|            Hawaiian|    612|\n",
      "|            Japanese|   1931|\n",
      "|            Filipino|  17955|\n",
      "|          Vietnamese|   5226|\n",
      "|               Other|1126556|\n",
      "|              Samoan|   1528|\n",
      "|           Guamanian|    673|\n",
      "|              Korean|   3829|\n",
      "|             Laotian|    282|\n",
      "|               White|6184252|\n",
      "|           Cambodian|    382|\n",
      "|            Hispanic|4954207|\n",
      "|               Black|1221604|\n",
      "|         Other Asian| 935395|\n",
      "+--------------------+-------+"
     ]
    }
   ],
   "source": [
    "df.select('driver_race_raw').groupBy('driver_race_raw').count().show()"
   ]
  },
  {
   "cell_type": "code",
   "execution_count": 13,
   "metadata": {},
   "outputs": [
    {
     "data": {
      "application/vnd.jupyter.widget-view+json": {
       "model_id": "12db8c01c5d64f64885fbb9f830d42cd",
       "version_major": 2,
       "version_minor": 0
      },
      "text/plain": [
       "VBox()"
      ]
     },
     "metadata": {},
     "output_type": "display_data"
    },
    {
     "data": {
      "application/vnd.jupyter.widget-view+json": {
       "model_id": "",
       "version_major": 2,
       "version_minor": 0
      },
      "text/plain": [
       "FloatProgress(value=0.0, bar_style='info', description='Progress:', layout=Layout(height='25px', width='50%'),…"
      ]
     },
     "metadata": {},
     "output_type": "display_data"
    },
    {
     "name": "stdout",
     "output_type": "stream",
     "text": [
      "+---------+-------+\n",
      "|ethnicity|  count|\n",
      "+---------+-------+\n",
      "|        K|   3829|\n",
      "|        F|  17955|\n",
      "|        B|1221604|\n",
      "|        L|    282|\n",
      "|        V|   5226|\n",
      "|        U|    612|\n",
      "|        O|1126556|\n",
      "|        D|    382|\n",
      "|        C|   8845|\n",
      "|        J|   1931|\n",
      "|        Z|  28063|\n",
      "|        A| 935395|\n",
      "|        W|6184252|\n",
      "|        S|   1528|\n",
      "|        G|    673|\n",
      "|        I|  37413|\n",
      "|        P|   7585|\n",
      "|        H|4954207|\n",
      "+---------+-------+"
     ]
    }
   ],
   "source": [
    "df.select('ethnicity').groupBy('ethnicity').count().show()"
   ]
  },
  {
   "cell_type": "markdown",
   "metadata": {},
   "source": [
    "### 'driver_race_raw', 'ethnicity' are similar, we'll choose 'driver_race' and drop the other one"
   ]
  },
  {
   "cell_type": "markdown",
   "metadata": {},
   "source": [
    "## 5. Make a new df "
   ]
  },
  {
   "cell_type": "code",
   "execution_count": 14,
   "metadata": {},
   "outputs": [
    {
     "data": {
      "application/vnd.jupyter.widget-view+json": {
       "model_id": "98f878521824444f8e0538bc84bc9b7f",
       "version_major": 2,
       "version_minor": 0
      },
      "text/plain": [
       "VBox()"
      ]
     },
     "metadata": {},
     "output_type": "display_data"
    },
    {
     "data": {
      "application/vnd.jupyter.widget-view+json": {
       "model_id": "",
       "version_major": 2,
       "version_minor": 0
      },
      "text/plain": [
       "FloatProgress(value=0.0, bar_style='info', description='Progress:', layout=Layout(height='25px', width='50%'),…"
      ]
     },
     "metadata": {},
     "output_type": "display_data"
    }
   ],
   "source": [
    "newdf = df.drop('id','state','stop_time','county_name', 'fine_grained_location', 'police_department', 'driver_age', 'stop_outcome', 'ethnicity')"
   ]
  },
  {
   "cell_type": "code",
   "execution_count": 15,
   "metadata": {},
   "outputs": [
    {
     "data": {
      "application/vnd.jupyter.widget-view+json": {
       "model_id": "c017ca9a4720427ba7fd6c2e46853f9a",
       "version_major": 2,
       "version_minor": 0
      },
      "text/plain": [
       "VBox()"
      ]
     },
     "metadata": {},
     "output_type": "display_data"
    },
    {
     "data": {
      "application/vnd.jupyter.widget-view+json": {
       "model_id": "",
       "version_major": 2,
       "version_minor": 0
      },
      "text/plain": [
       "FloatProgress(value=0.0, bar_style='info', description='Progress:', layout=Layout(height='25px', width='50%'),…"
      ]
     },
     "metadata": {},
     "output_type": "display_data"
    },
    {
     "name": "stdout",
     "output_type": "stream",
     "text": [
      "['stop_date', 'location_raw', 'county_fips', 'driver_gender', 'driver_age_raw', 'driver_race_raw', 'driver_race', 'violation_raw', 'violation', 'search_conducted', 'search_type_raw', 'search_type', 'contraband_found', 'is_arrested']"
     ]
    }
   ],
   "source": [
    "newdf.columns"
   ]
  },
  {
   "cell_type": "markdown",
   "metadata": {},
   "source": [
    "## 6.Impute Missing Values "
   ]
  },
  {
   "cell_type": "markdown",
   "metadata": {},
   "source": [
    "- location_raw"
   ]
  },
  {
   "cell_type": "code",
   "execution_count": 16,
   "metadata": {},
   "outputs": [
    {
     "data": {
      "application/vnd.jupyter.widget-view+json": {
       "model_id": "2ca637b7f5744311bed9e218bbc4fb58",
       "version_major": 2,
       "version_minor": 0
      },
      "text/plain": [
       "VBox()"
      ]
     },
     "metadata": {},
     "output_type": "display_data"
    },
    {
     "data": {
      "application/vnd.jupyter.widget-view+json": {
       "model_id": "",
       "version_major": 2,
       "version_minor": 0
      },
      "text/plain": [
       "FloatProgress(value=0.0, bar_style='info', description='Progress:', layout=Layout(height='25px', width='50%'),…"
      ]
     },
     "metadata": {},
     "output_type": "display_data"
    },
    {
     "name": "stdout",
     "output_type": "stream",
     "text": [
      "4"
     ]
    }
   ],
   "source": [
    "# number of missing value in column location_raw\n",
    "newdf.filter(newdf['location_raw'].isNull()).count()"
   ]
  },
  {
   "cell_type": "code",
   "execution_count": 17,
   "metadata": {},
   "outputs": [
    {
     "data": {
      "application/vnd.jupyter.widget-view+json": {
       "model_id": "32549633c7044ef69ee1dc3a99338892",
       "version_major": 2,
       "version_minor": 0
      },
      "text/plain": [
       "VBox()"
      ]
     },
     "metadata": {},
     "output_type": "display_data"
    },
    {
     "data": {
      "application/vnd.jupyter.widget-view+json": {
       "model_id": "",
       "version_major": 2,
       "version_minor": 0
      },
      "text/plain": [
       "FloatProgress(value=0.0, bar_style='info', description='Progress:', layout=Layout(height='25px', width='50%'),…"
      ]
     },
     "metadata": {},
     "output_type": "display_data"
    }
   ],
   "source": [
    "# get the most common value of location_raw and replace null value with it.\n",
    "mode = newdf.groupBy(newdf['location_raw']).count().orderBy('count', ascending=False).first()[0]\n",
    "newdf = newdf.fillna(mode, subset='location_raw')"
   ]
  },
  {
   "cell_type": "code",
   "execution_count": 18,
   "metadata": {},
   "outputs": [
    {
     "data": {
      "application/vnd.jupyter.widget-view+json": {
       "model_id": "6ef44a6b2bbb4917acf674689fb2af3c",
       "version_major": 2,
       "version_minor": 0
      },
      "text/plain": [
       "VBox()"
      ]
     },
     "metadata": {},
     "output_type": "display_data"
    },
    {
     "data": {
      "application/vnd.jupyter.widget-view+json": {
       "model_id": "",
       "version_major": 2,
       "version_minor": 0
      },
      "text/plain": [
       "FloatProgress(value=0.0, bar_style='info', description='Progress:', layout=Layout(height='25px', width='50%'),…"
      ]
     },
     "metadata": {},
     "output_type": "display_data"
    },
    {
     "name": "stdout",
     "output_type": "stream",
     "text": [
      "0"
     ]
    }
   ],
   "source": [
    "newdf.filter(newdf['location_raw'].isNull()).count()"
   ]
  },
  {
   "cell_type": "markdown",
   "metadata": {},
   "source": [
    "- county_fips"
   ]
  },
  {
   "cell_type": "code",
   "execution_count": 19,
   "metadata": {},
   "outputs": [
    {
     "data": {
      "application/vnd.jupyter.widget-view+json": {
       "model_id": "5d2f758608a54632b80be5deee0ea4e7",
       "version_major": 2,
       "version_minor": 0
      },
      "text/plain": [
       "VBox()"
      ]
     },
     "metadata": {},
     "output_type": "display_data"
    },
    {
     "data": {
      "application/vnd.jupyter.widget-view+json": {
       "model_id": "",
       "version_major": 2,
       "version_minor": 0
      },
      "text/plain": [
       "FloatProgress(value=0.0, bar_style='info', description='Progress:', layout=Layout(height='25px', width='50%'),…"
      ]
     },
     "metadata": {},
     "output_type": "display_data"
    },
    {
     "name": "stdout",
     "output_type": "stream",
     "text": [
      "1076319"
     ]
    }
   ],
   "source": [
    "# number of missing value in column county_fips\n",
    "newdf.filter(newdf['county_fips'].isNull()).count()"
   ]
  },
  {
   "cell_type": "code",
   "execution_count": 20,
   "metadata": {},
   "outputs": [
    {
     "data": {
      "application/vnd.jupyter.widget-view+json": {
       "model_id": "b68f56c6789948f9a9c10470c2d5b48d",
       "version_major": 2,
       "version_minor": 0
      },
      "text/plain": [
       "VBox()"
      ]
     },
     "metadata": {},
     "output_type": "display_data"
    },
    {
     "data": {
      "application/vnd.jupyter.widget-view+json": {
       "model_id": "",
       "version_major": 2,
       "version_minor": 0
      },
      "text/plain": [
       "FloatProgress(value=0.0, bar_style='info', description='Progress:', layout=Layout(height='25px', width='50%'),…"
      ]
     },
     "metadata": {},
     "output_type": "display_data"
    }
   ],
   "source": [
    "location_county = newdf.filter(newdf['county_fips'].isNull()).select('location_raw','county_fips')"
   ]
  },
  {
   "cell_type": "code",
   "execution_count": 21,
   "metadata": {},
   "outputs": [
    {
     "data": {
      "application/vnd.jupyter.widget-view+json": {
       "model_id": "cac89a9f12874b93908f89c55f336065",
       "version_major": 2,
       "version_minor": 0
      },
      "text/plain": [
       "VBox()"
      ]
     },
     "metadata": {},
     "output_type": "display_data"
    },
    {
     "data": {
      "application/vnd.jupyter.widget-view+json": {
       "model_id": "",
       "version_major": 2,
       "version_minor": 0
      },
      "text/plain": [
       "FloatProgress(value=0.0, bar_style='info', description='Progress:', layout=Layout(height='25px', width='50%'),…"
      ]
     },
     "metadata": {},
     "output_type": "display_data"
    },
    {
     "name": "stdout",
     "output_type": "stream",
     "text": [
      "+--------------------+-----------+\n",
      "|        location_raw|county_fips|\n",
      "+--------------------+-----------+\n",
      "|          Mt. Shasta|       null|\n",
      "|          Mt. Shasta|       null|\n",
      "|          Mt. Shasta|       null|\n",
      "|          Mt. Shasta|       null|\n",
      "|          Mt. Shasta|       null|\n",
      "|          Mt. Shasta|       null|\n",
      "|          Mt. Shasta|       null|\n",
      "|Conejo Inspection...|       null|\n",
      "|Conejo Inspection...|       null|\n",
      "|Conejo Inspection...|       null|\n",
      "|Conejo Inspection...|       null|\n",
      "|Conejo Inspection...|       null|\n",
      "|Conejo Inspection...|       null|\n",
      "|Conejo Inspection...|       null|\n",
      "|            Moorpark|       null|\n",
      "|            Moorpark|       null|\n",
      "|            Moorpark|       null|\n",
      "|            Moorpark|       null|\n",
      "|            Moorpark|       null|\n",
      "|            Temecula|       null|\n",
      "+--------------------+-----------+\n",
      "only showing top 20 rows"
     ]
    }
   ],
   "source": [
    "location_county.show()"
   ]
  },
  {
   "cell_type": "code",
   "execution_count": 22,
   "metadata": {},
   "outputs": [
    {
     "data": {
      "application/vnd.jupyter.widget-view+json": {
       "model_id": "32f97d6ea1da4234836c3ddc44806dff",
       "version_major": 2,
       "version_minor": 0
      },
      "text/plain": [
       "VBox()"
      ]
     },
     "metadata": {},
     "output_type": "display_data"
    },
    {
     "data": {
      "application/vnd.jupyter.widget-view+json": {
       "model_id": "",
       "version_major": 2,
       "version_minor": 0
      },
      "text/plain": [
       "FloatProgress(value=0.0, bar_style='info', description='Progress:', layout=Layout(height='25px', width='50%'),…"
      ]
     },
     "metadata": {},
     "output_type": "display_data"
    },
    {
     "name": "stdout",
     "output_type": "stream",
     "text": [
      "+--------------------+------+\n",
      "|        location_raw| count|\n",
      "+--------------------+------+\n",
      "|             Ventura|157996|\n",
      "|            Moorpark|141818|\n",
      "|            Temecula|131368|\n",
      "|       Santa Barbara|106447|\n",
      "|            Coalinga| 99385|\n",
      "|             Buelton| 72130|\n",
      "|         Santa Maria| 62077|\n",
      "|               Yreka| 52646|\n",
      "|Dunsmuir Grade In...| 49006|\n",
      "|Rainbow Inspectio...| 48488|\n",
      "|Conejo Inspection...| 45275|\n",
      "|                  25| 39678|\n",
      "|          Mt. Shasta| 35439|\n",
      "|     San Luis Obispo| 30849|\n",
      "|                  62|  2321|\n",
      "|                  61|   728|\n",
      "|                  91|   434|\n",
      "|                   3|    69|\n",
      "|                  33|    30|\n",
      "|                  29|    29|\n",
      "+--------------------+------+\n",
      "only showing top 20 rows"
     ]
    }
   ],
   "source": [
    "location_county.groupBy(newdf['location_raw']).count().orderBy('count', ascending=False).show()\n",
    "# we can observe that many locations have corresponding county_fips as null, however, replacing these null values \n",
    "# with the most common values doens't make any sense.\n",
    "# And even we replace null county_fips with their corresponding values, still there are several locations represented \n",
    "# with a number, which doesn't contain information to search it's corresponding county. \n",
    "# Conclusion: we can just drop 'county_fips' column."
   ]
  },
  {
   "cell_type": "code",
   "execution_count": 23,
   "metadata": {},
   "outputs": [
    {
     "data": {
      "application/vnd.jupyter.widget-view+json": {
       "model_id": "52fa3ca15b1e424fb7801900bc7b432b",
       "version_major": 2,
       "version_minor": 0
      },
      "text/plain": [
       "VBox()"
      ]
     },
     "metadata": {},
     "output_type": "display_data"
    },
    {
     "data": {
      "application/vnd.jupyter.widget-view+json": {
       "model_id": "",
       "version_major": 2,
       "version_minor": 0
      },
      "text/plain": [
       "FloatProgress(value=0.0, bar_style='info', description='Progress:', layout=Layout(height='25px', width='50%'),…"
      ]
     },
     "metadata": {},
     "output_type": "display_data"
    }
   ],
   "source": [
    "newdf = newdf.drop('county_fips')"
   ]
  },
  {
   "cell_type": "code",
   "execution_count": 24,
   "metadata": {},
   "outputs": [
    {
     "data": {
      "application/vnd.jupyter.widget-view+json": {
       "model_id": "1989009ca3fb4117adf121bbfa30427c",
       "version_major": 2,
       "version_minor": 0
      },
      "text/plain": [
       "VBox()"
      ]
     },
     "metadata": {},
     "output_type": "display_data"
    },
    {
     "data": {
      "application/vnd.jupyter.widget-view+json": {
       "model_id": "",
       "version_major": 2,
       "version_minor": 0
      },
      "text/plain": [
       "FloatProgress(value=0.0, bar_style='info', description='Progress:', layout=Layout(height='25px', width='50%'),…"
      ]
     },
     "metadata": {},
     "output_type": "display_data"
    },
    {
     "name": "stdout",
     "output_type": "stream",
     "text": [
      "14057611"
     ]
    }
   ],
   "source": [
    "# number of missing value in column county_fips\n",
    "newdf.filter(newdf['search_type'].isNull()).count()"
   ]
  },
  {
   "cell_type": "code",
   "execution_count": 25,
   "metadata": {},
   "outputs": [
    {
     "data": {
      "application/vnd.jupyter.widget-view+json": {
       "model_id": "351efb2d5b10463080cd4da9d97fcfc5",
       "version_major": 2,
       "version_minor": 0
      },
      "text/plain": [
       "VBox()"
      ]
     },
     "metadata": {},
     "output_type": "display_data"
    },
    {
     "data": {
      "application/vnd.jupyter.widget-view+json": {
       "model_id": "",
       "version_major": 2,
       "version_minor": 0
      },
      "text/plain": [
       "FloatProgress(value=0.0, bar_style='info', description='Progress:', layout=Layout(height='25px', width='50%'),…"
      ]
     },
     "metadata": {},
     "output_type": "display_data"
    },
    {
     "name": "stdout",
     "output_type": "stream",
     "text": [
      "+------------------+--------+\n",
      "|       search_type|   count|\n",
      "+------------------+--------+\n",
      "|              null|14057611|\n",
      "|Incident to Arrest|  275590|\n",
      "|         Inventory|  145622|\n",
      "|  Protective Frisk|   27745|\n",
      "|    Probable Cause|   18169|\n",
      "|           Warrant|    6232|\n",
      "|           Consent|    4266|\n",
      "|             Other|    1103|\n",
      "+------------------+--------+"
     ]
    }
   ],
   "source": [
    "# We observe most search_type are not recorded. In order to not lose too much information, combining null values and\n",
    "# type 'Other' seems to be a good idea. \n",
    "newdf.groupBy(newdf['search_type']).count().orderBy('count', ascending=False).show()"
   ]
  },
  {
   "cell_type": "code",
   "execution_count": 26,
   "metadata": {},
   "outputs": [
    {
     "data": {
      "application/vnd.jupyter.widget-view+json": {
       "model_id": "0eba5079c467424c96616c3675e3d64c",
       "version_major": 2,
       "version_minor": 0
      },
      "text/plain": [
       "VBox()"
      ]
     },
     "metadata": {},
     "output_type": "display_data"
    },
    {
     "data": {
      "application/vnd.jupyter.widget-view+json": {
       "model_id": "",
       "version_major": 2,
       "version_minor": 0
      },
      "text/plain": [
       "FloatProgress(value=0.0, bar_style='info', description='Progress:', layout=Layout(height='25px', width='50%'),…"
      ]
     },
     "metadata": {},
     "output_type": "display_data"
    }
   ],
   "source": [
    "# replace null values with 'Other'\n",
    "newdf = newdf.fillna('Other', subset='search_type')"
   ]
  },
  {
   "cell_type": "markdown",
   "metadata": {},
   "source": [
    "- contraband_found"
   ]
  },
  {
   "cell_type": "code",
   "execution_count": 27,
   "metadata": {},
   "outputs": [
    {
     "data": {
      "application/vnd.jupyter.widget-view+json": {
       "model_id": "90e210678a2d49b190bb9e195dc789ec",
       "version_major": 2,
       "version_minor": 0
      },
      "text/plain": [
       "VBox()"
      ]
     },
     "metadata": {},
     "output_type": "display_data"
    },
    {
     "data": {
      "application/vnd.jupyter.widget-view+json": {
       "model_id": "",
       "version_major": 2,
       "version_minor": 0
      },
      "text/plain": [
       "FloatProgress(value=0.0, bar_style='info', description='Progress:', layout=Layout(height='25px', width='50%'),…"
      ]
     },
     "metadata": {},
     "output_type": "display_data"
    },
    {
     "name": "stdout",
     "output_type": "stream",
     "text": [
      "456292"
     ]
    }
   ],
   "source": [
    "# number of missing value in column contraband_found\n",
    "newdf.filter(newdf['contraband_found'].isNull()).count()"
   ]
  },
  {
   "cell_type": "code",
   "execution_count": 28,
   "metadata": {},
   "outputs": [
    {
     "data": {
      "application/vnd.jupyter.widget-view+json": {
       "model_id": "a3b1edf2f0ef4c79b0e50497bb71f11f",
       "version_major": 2,
       "version_minor": 0
      },
      "text/plain": [
       "VBox()"
      ]
     },
     "metadata": {},
     "output_type": "display_data"
    },
    {
     "data": {
      "application/vnd.jupyter.widget-view+json": {
       "model_id": "",
       "version_major": 2,
       "version_minor": 0
      },
      "text/plain": [
       "FloatProgress(value=0.0, bar_style='info', description='Progress:', layout=Layout(height='25px', width='50%'),…"
      ]
     },
     "metadata": {},
     "output_type": "display_data"
    }
   ],
   "source": [
    "# replace null values with the most common value\n",
    "mode = newdf.groupBy(newdf['contraband_found']).count().orderBy('count', ascending=False).first()[0]\n",
    "newdf = newdf.fillna(mode, subset='contraband_found')"
   ]
  },
  {
   "cell_type": "code",
   "execution_count": 29,
   "metadata": {},
   "outputs": [
    {
     "data": {
      "application/vnd.jupyter.widget-view+json": {
       "model_id": "4f7f9445f6624da48f6dcb24b237541a",
       "version_major": 2,
       "version_minor": 0
      },
      "text/plain": [
       "VBox()"
      ]
     },
     "metadata": {},
     "output_type": "display_data"
    },
    {
     "data": {
      "application/vnd.jupyter.widget-view+json": {
       "model_id": "",
       "version_major": 2,
       "version_minor": 0
      },
      "text/plain": [
       "FloatProgress(value=0.0, bar_style='info', description='Progress:', layout=Layout(height='25px', width='50%'),…"
      ]
     },
     "metadata": {},
     "output_type": "display_data"
    },
    {
     "name": "stdout",
     "output_type": "stream",
     "text": [
      "0"
     ]
    }
   ],
   "source": [
    "newdf.filter(newdf['contraband_found'].isNull()).count()"
   ]
  },
  {
   "cell_type": "markdown",
   "metadata": {},
   "source": [
    "## 7.Data Preprocessing - StringIndexer & OneHotEncoder"
   ]
  },
  {
   "cell_type": "code",
   "execution_count": 30,
   "metadata": {},
   "outputs": [
    {
     "data": {
      "application/vnd.jupyter.widget-view+json": {
       "model_id": "",
       "version_major": 2,
       "version_minor": 0
      },
      "text/plain": [
       "VBox()"
      ]
     },
     "metadata": {},
     "output_type": "display_data"
    },
    {
     "data": {
      "application/vnd.jupyter.widget-view+json": {
       "model_id": "",
       "version_major": 2,
       "version_minor": 0
      },
      "text/plain": [
       "FloatProgress(value=0.0, bar_style='info', description='Progress:', layout=Layout(height='25px', width='50%'),…"
      ]
     },
     "metadata": {},
     "output_type": "display_data"
    }
   ],
   "source": [
    "from pyspark.ml.feature import StringIndexer\n",
    "from pyspark.ml.feature import OneHotEncoder\n",
    "from pyspark.ml.feature import StandardScaler\n",
    "from pyspark.ml.feature import VectorAssembler"
   ]
  },
  {
   "cell_type": "code",
   "execution_count": 31,
   "metadata": {},
   "outputs": [
    {
     "data": {
      "application/vnd.jupyter.widget-view+json": {
       "model_id": "4989d069a19f441d8d63460f30512999",
       "version_major": 2,
       "version_minor": 0
      },
      "text/plain": [
       "VBox()"
      ]
     },
     "metadata": {},
     "output_type": "display_data"
    },
    {
     "data": {
      "application/vnd.jupyter.widget-view+json": {
       "model_id": "",
       "version_major": 2,
       "version_minor": 0
      },
      "text/plain": [
       "FloatProgress(value=0.0, bar_style='info', description='Progress:', layout=Layout(height='25px', width='50%'),…"
      ]
     },
     "metadata": {},
     "output_type": "display_data"
    }
   ],
   "source": [
    "categorical_col = newdf.columns[1:]"
   ]
  },
  {
   "cell_type": "code",
   "execution_count": 38,
   "metadata": {},
   "outputs": [
    {
     "data": {
      "application/vnd.jupyter.widget-view+json": {
       "model_id": "22ac0b48e82b449c9c739e3162a7f379",
       "version_major": 2,
       "version_minor": 0
      },
      "text/plain": [
       "VBox()"
      ]
     },
     "metadata": {},
     "output_type": "display_data"
    },
    {
     "data": {
      "application/vnd.jupyter.widget-view+json": {
       "model_id": "",
       "version_major": 2,
       "version_minor": 0
      },
      "text/plain": [
       "FloatProgress(value=0.0, bar_style='info', description='Progress:', layout=Layout(height='25px', width='50%'),…"
      ]
     },
     "metadata": {},
     "output_type": "display_data"
    }
   ],
   "source": [
    "def Col_Str(df, cols):\n",
    "    newdf = df\n",
    "\n",
    "    for c in cols:\n",
    "        si = StringIndexer(inputCol=c, outputCol=c+\"-num\")\n",
    "        sm = si.fit(newdf)\n",
    "        newdf = sm.transform(newdf).drop(c)\n",
    "        newdf = newdf.withColumnRenamed(c+\"-num\", c)\n",
    "    return newdf\n",
    "\n",
    "\n",
    "def OHE(df, cols):\n",
    "    newdf = df\n",
    "    for c in cols:\n",
    "        ohe = OneHotEncoder(inputCol=c, outputCol=c+\"-onehot\", dropLast=False)\n",
    "#         ohe_model = ohe.fit(newdf)\n",
    "\n",
    "        newdf = ohe.transform(newdf).drop(c)\n",
    "        newdf = newdf.withColumnRenamed(c+\"-onehot\", c)\n",
    "    return newdf"
   ]
  },
  {
   "cell_type": "code",
   "execution_count": 39,
   "metadata": {},
   "outputs": [
    {
     "data": {
      "application/vnd.jupyter.widget-view+json": {
       "model_id": "0695e9fb8946450ea5e12bcaebaeb7ad",
       "version_major": 2,
       "version_minor": 0
      },
      "text/plain": [
       "VBox()"
      ]
     },
     "metadata": {},
     "output_type": "display_data"
    },
    {
     "data": {
      "application/vnd.jupyter.widget-view+json": {
       "model_id": "",
       "version_major": 2,
       "version_minor": 0
      },
      "text/plain": [
       "FloatProgress(value=0.0, bar_style='info', description='Progress:', layout=Layout(height='25px', width='50%'),…"
      ]
     },
     "metadata": {},
     "output_type": "display_data"
    }
   ],
   "source": [
    "processed_df = Col_Str(newdf, categorical_col)\n",
    "\n",
    "processed_df = OHE(processed_df, categorical_col)"
   ]
  },
  {
   "cell_type": "code",
   "execution_count": 40,
   "metadata": {},
   "outputs": [
    {
     "data": {
      "application/vnd.jupyter.widget-view+json": {
       "model_id": "c835c9da8f4f4c27bccaf01f526f7d2d",
       "version_major": 2,
       "version_minor": 0
      },
      "text/plain": [
       "VBox()"
      ]
     },
     "metadata": {},
     "output_type": "display_data"
    },
    {
     "data": {
      "application/vnd.jupyter.widget-view+json": {
       "model_id": "",
       "version_major": 2,
       "version_minor": 0
      },
      "text/plain": [
       "FloatProgress(value=0.0, bar_style='info', description='Progress:', layout=Layout(height='25px', width='50%'),…"
      ]
     },
     "metadata": {},
     "output_type": "display_data"
    },
    {
     "name": "stdout",
     "output_type": "stream",
     "text": [
      "+----------+---------------+-------------+--------------+---------------+-------------+-------------+-------------+----------------+---------------+-------------+----------------+-------------+\n",
      "| stop_date|   location_raw|driver_gender|driver_age_raw|driver_race_raw|  driver_race|violation_raw|    violation|search_conducted|search_type_raw|  search_type|contraband_found|  is_arrested|\n",
      "+----------+---------------+-------------+--------------+---------------+-------------+-------------+-------------+----------------+---------------+-------------+----------------+-------------+\n",
      "|2013-01-01|(145,[0],[1.0])|(2,[0],[1.0])| (6,[0],[1.0])| (18,[1],[1.0])|(5,[1],[1.0])|(8,[1],[1.0])|(4,[2],[1.0])|   (2,[0],[1.0])| (10,[0],[1.0])|(7,[0],[1.0])|   (2,[0],[1.0])|(2,[0],[1.0])|\n",
      "|2013-01-01|(145,[0],[1.0])|(2,[1],[1.0])| (6,[2],[1.0])| (18,[2],[1.0])|(5,[2],[1.0])|(8,[0],[1.0])|(4,[0],[1.0])|   (2,[0],[1.0])| (10,[0],[1.0])|(7,[0],[1.0])|   (2,[0],[1.0])|(2,[0],[1.0])|\n",
      "|2013-01-01|(145,[0],[1.0])|(2,[0],[1.0])| (6,[0],[1.0])| (18,[0],[1.0])|(5,[0],[1.0])|(8,[0],[1.0])|(4,[0],[1.0])|   (2,[0],[1.0])| (10,[0],[1.0])|(7,[0],[1.0])|   (2,[0],[1.0])|(2,[0],[1.0])|\n",
      "|2013-01-01|(145,[0],[1.0])|(2,[0],[1.0])| (6,[1],[1.0])| (18,[0],[1.0])|(5,[0],[1.0])|(8,[1],[1.0])|(4,[2],[1.0])|   (2,[0],[1.0])| (10,[0],[1.0])|(7,[0],[1.0])|   (2,[0],[1.0])|(2,[0],[1.0])|\n",
      "|2013-01-01|(145,[0],[1.0])|(2,[0],[1.0])| (6,[3],[1.0])| (18,[2],[1.0])|(5,[2],[1.0])|(8,[1],[1.0])|(4,[2],[1.0])|   (2,[0],[1.0])| (10,[0],[1.0])|(7,[0],[1.0])|   (2,[0],[1.0])|(2,[0],[1.0])|\n",
      "|2013-01-01|(145,[0],[1.0])|(2,[0],[1.0])| (6,[3],[1.0])| (18,[2],[1.0])|(5,[2],[1.0])|(8,[1],[1.0])|(4,[2],[1.0])|   (2,[0],[1.0])| (10,[0],[1.0])|(7,[0],[1.0])|   (2,[0],[1.0])|(2,[0],[1.0])|\n",
      "|2013-01-01|(145,[0],[1.0])|(2,[0],[1.0])| (6,[3],[1.0])| (18,[2],[1.0])|(5,[2],[1.0])|(8,[1],[1.0])|(4,[2],[1.0])|   (2,[0],[1.0])| (10,[0],[1.0])|(7,[0],[1.0])|   (2,[0],[1.0])|(2,[0],[1.0])|\n",
      "|2013-01-01|(145,[0],[1.0])|(2,[0],[1.0])| (6,[3],[1.0])| (18,[1],[1.0])|(5,[1],[1.0])|(8,[2],[1.0])|(4,[1],[1.0])|   (2,[0],[1.0])| (10,[0],[1.0])|(7,[0],[1.0])|   (2,[0],[1.0])|(2,[0],[1.0])|\n",
      "|2013-01-01|(145,[0],[1.0])|(2,[0],[1.0])| (6,[3],[1.0])| (18,[3],[1.0])|(5,[3],[1.0])|(8,[2],[1.0])|(4,[1],[1.0])|   (2,[0],[1.0])| (10,[0],[1.0])|(7,[0],[1.0])|   (2,[0],[1.0])|(2,[0],[1.0])|\n",
      "|2013-01-01|(145,[0],[1.0])|(2,[1],[1.0])| (6,[2],[1.0])| (18,[1],[1.0])|(5,[1],[1.0])|(8,[0],[1.0])|(4,[0],[1.0])|   (2,[0],[1.0])| (10,[0],[1.0])|(7,[0],[1.0])|   (2,[0],[1.0])|(2,[0],[1.0])|\n",
      "|2013-01-01|(145,[4],[1.0])|(2,[0],[1.0])| (6,[4],[1.0])| (18,[1],[1.0])|(5,[1],[1.0])|(8,[5],[1.0])|(4,[3],[1.0])|   (2,[0],[1.0])| (10,[0],[1.0])|(7,[0],[1.0])|   (2,[0],[1.0])|(2,[0],[1.0])|\n",
      "|2013-01-01|(145,[4],[1.0])|(2,[1],[1.0])| (6,[3],[1.0])| (18,[1],[1.0])|(5,[1],[1.0])|(8,[5],[1.0])|(4,[3],[1.0])|   (2,[0],[1.0])| (10,[0],[1.0])|(7,[0],[1.0])|   (2,[0],[1.0])|(2,[0],[1.0])|\n",
      "|2013-01-01|(145,[4],[1.0])|(2,[1],[1.0])| (6,[3],[1.0])| (18,[1],[1.0])|(5,[1],[1.0])|(8,[5],[1.0])|(4,[3],[1.0])|   (2,[0],[1.0])| (10,[0],[1.0])|(7,[0],[1.0])|   (2,[0],[1.0])|(2,[0],[1.0])|\n",
      "|2013-01-01|(145,[4],[1.0])|(2,[1],[1.0])| (6,[3],[1.0])| (18,[4],[1.0])|(5,[4],[1.0])|(8,[5],[1.0])|(4,[3],[1.0])|   (2,[0],[1.0])| (10,[0],[1.0])|(7,[0],[1.0])|   (2,[0],[1.0])|(2,[0],[1.0])|\n",
      "|2013-01-01|(145,[4],[1.0])|(2,[0],[1.0])| (6,[3],[1.0])| (18,[0],[1.0])|(5,[0],[1.0])|(8,[0],[1.0])|(4,[0],[1.0])|   (2,[0],[1.0])| (10,[0],[1.0])|(7,[0],[1.0])|   (2,[0],[1.0])|(2,[0],[1.0])|\n",
      "|2013-01-01|(145,[4],[1.0])|(2,[0],[1.0])| (6,[4],[1.0])| (18,[4],[1.0])|(5,[4],[1.0])|(8,[5],[1.0])|(4,[3],[1.0])|   (2,[0],[1.0])| (10,[0],[1.0])|(7,[0],[1.0])|   (2,[0],[1.0])|(2,[0],[1.0])|\n",
      "|2013-01-01|(145,[4],[1.0])|(2,[0],[1.0])| (6,[1],[1.0])| (18,[1],[1.0])|(5,[1],[1.0])|(8,[0],[1.0])|(4,[0],[1.0])|   (2,[0],[1.0])| (10,[0],[1.0])|(7,[0],[1.0])|   (2,[0],[1.0])|(2,[0],[1.0])|\n",
      "|2013-01-01|(145,[4],[1.0])|(2,[0],[1.0])| (6,[0],[1.0])| (18,[2],[1.0])|(5,[2],[1.0])|(8,[0],[1.0])|(4,[0],[1.0])|   (2,[0],[1.0])| (10,[0],[1.0])|(7,[0],[1.0])|   (2,[0],[1.0])|(2,[0],[1.0])|\n",
      "|2013-01-01|(145,[4],[1.0])|(2,[0],[1.0])| (6,[3],[1.0])| (18,[1],[1.0])|(5,[1],[1.0])|(8,[0],[1.0])|(4,[0],[1.0])|   (2,[0],[1.0])| (10,[0],[1.0])|(7,[0],[1.0])|   (2,[0],[1.0])|(2,[0],[1.0])|\n",
      "|2013-01-01|(145,[4],[1.0])|(2,[1],[1.0])| (6,[3],[1.0])| (18,[0],[1.0])|(5,[0],[1.0])|(8,[0],[1.0])|(4,[0],[1.0])|   (2,[0],[1.0])| (10,[0],[1.0])|(7,[0],[1.0])|   (2,[0],[1.0])|(2,[0],[1.0])|\n",
      "+----------+---------------+-------------+--------------+---------------+-------------+-------------+-------------+----------------+---------------+-------------+----------------+-------------+\n",
      "only showing top 20 rows"
     ]
    }
   ],
   "source": [
    "processed_df.show()"
   ]
  },
  {
   "cell_type": "markdown",
   "metadata": {},
   "source": [
    "## 8.save back to s3 "
   ]
  },
  {
   "cell_type": "code",
   "execution_count": 42,
   "metadata": {
    "scrolled": true
   },
   "outputs": [
    {
     "data": {
      "application/vnd.jupyter.widget-view+json": {
       "model_id": "26044d3884184f66b5fd6fab58946b5f",
       "version_major": 2,
       "version_minor": 0
      },
      "text/plain": [
       "VBox()"
      ]
     },
     "metadata": {},
     "output_type": "display_data"
    },
    {
     "data": {
      "application/vnd.jupyter.widget-view+json": {
       "model_id": "",
       "version_major": 2,
       "version_minor": 0
      },
      "text/plain": [
       "FloatProgress(value=0.0, bar_style='info', description='Progress:', layout=Layout(height='25px', width='50%'),…"
      ]
     },
     "metadata": {},
     "output_type": "display_data"
    }
   ],
   "source": [
    "processed_df.write.parquet('s3a://msds694-dataset/CA_2013_onwards_new.parquet')"
   ]
  },
  {
   "cell_type": "markdown",
   "metadata": {},
   "source": [
    "## 9. Check saved files "
   ]
  },
  {
   "cell_type": "code",
   "execution_count": 44,
   "metadata": {},
   "outputs": [
    {
     "data": {
      "application/vnd.jupyter.widget-view+json": {
       "model_id": "7c20b36c4cae49bc986643c2e19848a4",
       "version_major": 2,
       "version_minor": 0
      },
      "text/plain": [
       "VBox()"
      ]
     },
     "metadata": {},
     "output_type": "display_data"
    },
    {
     "data": {
      "application/vnd.jupyter.widget-view+json": {
       "model_id": "",
       "version_major": 2,
       "version_minor": 0
      },
      "text/plain": [
       "FloatProgress(value=0.0, bar_style='info', description='Progress:', layout=Layout(height='25px', width='50%'),…"
      ]
     },
     "metadata": {},
     "output_type": "display_data"
    }
   ],
   "source": [
    "check_df = ss.read.parquet('s3a://msds694-dataset/CA_2013_onwards_new.parquet')"
   ]
  },
  {
   "cell_type": "code",
   "execution_count": 45,
   "metadata": {},
   "outputs": [
    {
     "data": {
      "application/vnd.jupyter.widget-view+json": {
       "model_id": "46c6d606f3fd4f68bf6452217b6107aa",
       "version_major": 2,
       "version_minor": 0
      },
      "text/plain": [
       "VBox()"
      ]
     },
     "metadata": {},
     "output_type": "display_data"
    },
    {
     "data": {
      "application/vnd.jupyter.widget-view+json": {
       "model_id": "",
       "version_major": 2,
       "version_minor": 0
      },
      "text/plain": [
       "FloatProgress(value=0.0, bar_style='info', description='Progress:', layout=Layout(height='25px', width='50%'),…"
      ]
     },
     "metadata": {},
     "output_type": "display_data"
    },
    {
     "name": "stdout",
     "output_type": "stream",
     "text": [
      "+----------+----------------+-------------+--------------+---------------+-------------+-------------+-------------+----------------+---------------+-------------+----------------+-------------+\n",
      "| stop_date|    location_raw|driver_gender|driver_age_raw|driver_race_raw|  driver_race|violation_raw|    violation|search_conducted|search_type_raw|  search_type|contraband_found|  is_arrested|\n",
      "+----------+----------------+-------------+--------------+---------------+-------------+-------------+-------------+----------------+---------------+-------------+----------------+-------------+\n",
      "|2013-07-10|(145,[10],[1.0])|(2,[0],[1.0])| (6,[4],[1.0])| (18,[4],[1.0])|(5,[4],[1.0])|(8,[1],[1.0])|(4,[2],[1.0])|   (2,[0],[1.0])| (10,[0],[1.0])|(7,[0],[1.0])|   (2,[0],[1.0])|(2,[0],[1.0])|\n",
      "|2013-07-10|(145,[10],[1.0])|(2,[0],[1.0])| (6,[0],[1.0])| (18,[0],[1.0])|(5,[0],[1.0])|(8,[2],[1.0])|(4,[1],[1.0])|   (2,[0],[1.0])| (10,[0],[1.0])|(7,[0],[1.0])|   (2,[0],[1.0])|(2,[0],[1.0])|\n",
      "|2013-07-10|(145,[10],[1.0])|(2,[1],[1.0])| (6,[3],[1.0])| (18,[1],[1.0])|(5,[1],[1.0])|(8,[1],[1.0])|(4,[2],[1.0])|   (2,[0],[1.0])| (10,[0],[1.0])|(7,[0],[1.0])|   (2,[0],[1.0])|(2,[0],[1.0])|\n",
      "|2013-07-10|(145,[10],[1.0])|(2,[0],[1.0])| (6,[0],[1.0])| (18,[3],[1.0])|(5,[3],[1.0])|(8,[0],[1.0])|(4,[0],[1.0])|   (2,[0],[1.0])| (10,[0],[1.0])|(7,[0],[1.0])|   (2,[0],[1.0])|(2,[0],[1.0])|\n",
      "|2013-07-10|(145,[10],[1.0])|(2,[1],[1.0])| (6,[4],[1.0])| (18,[0],[1.0])|(5,[0],[1.0])|(8,[0],[1.0])|(4,[0],[1.0])|   (2,[0],[1.0])| (10,[0],[1.0])|(7,[0],[1.0])|   (2,[0],[1.0])|(2,[0],[1.0])|\n",
      "|2013-07-10|(145,[10],[1.0])|(2,[1],[1.0])| (6,[4],[1.0])| (18,[1],[1.0])|(5,[1],[1.0])|(8,[1],[1.0])|(4,[2],[1.0])|   (2,[0],[1.0])| (10,[0],[1.0])|(7,[0],[1.0])|   (2,[0],[1.0])|(2,[0],[1.0])|\n",
      "|2013-07-10|(145,[10],[1.0])|(2,[0],[1.0])| (6,[0],[1.0])| (18,[1],[1.0])|(5,[1],[1.0])|(8,[0],[1.0])|(4,[0],[1.0])|   (2,[0],[1.0])| (10,[0],[1.0])|(7,[0],[1.0])|   (2,[0],[1.0])|(2,[0],[1.0])|\n",
      "|2013-07-10|(145,[10],[1.0])|(2,[0],[1.0])| (6,[2],[1.0])| (18,[2],[1.0])|(5,[2],[1.0])|(8,[1],[1.0])|(4,[2],[1.0])|   (2,[0],[1.0])| (10,[0],[1.0])|(7,[0],[1.0])|   (2,[0],[1.0])|(2,[0],[1.0])|\n",
      "|2013-07-10|(145,[10],[1.0])|(2,[0],[1.0])| (6,[2],[1.0])| (18,[2],[1.0])|(5,[2],[1.0])|(8,[1],[1.0])|(4,[2],[1.0])|   (2,[0],[1.0])| (10,[0],[1.0])|(7,[0],[1.0])|   (2,[0],[1.0])|(2,[0],[1.0])|\n",
      "|2013-07-10|(145,[10],[1.0])|(2,[1],[1.0])| (6,[4],[1.0])| (18,[0],[1.0])|(5,[0],[1.0])|(8,[0],[1.0])|(4,[0],[1.0])|   (2,[0],[1.0])| (10,[0],[1.0])|(7,[0],[1.0])|   (2,[0],[1.0])|(2,[0],[1.0])|\n",
      "|2013-07-10|(145,[10],[1.0])|(2,[0],[1.0])| (6,[2],[1.0])| (18,[1],[1.0])|(5,[1],[1.0])|(8,[2],[1.0])|(4,[1],[1.0])|   (2,[0],[1.0])| (10,[0],[1.0])|(7,[0],[1.0])|   (2,[0],[1.0])|(2,[0],[1.0])|\n",
      "|2013-07-10|(145,[10],[1.0])|(2,[0],[1.0])| (6,[2],[1.0])| (18,[1],[1.0])|(5,[1],[1.0])|(8,[2],[1.0])|(4,[1],[1.0])|   (2,[0],[1.0])| (10,[0],[1.0])|(7,[0],[1.0])|   (2,[0],[1.0])|(2,[0],[1.0])|\n",
      "|2013-07-10|(145,[10],[1.0])|(2,[0],[1.0])| (6,[2],[1.0])| (18,[0],[1.0])|(5,[0],[1.0])|(8,[5],[1.0])|(4,[3],[1.0])|   (2,[0],[1.0])| (10,[0],[1.0])|(7,[0],[1.0])|   (2,[0],[1.0])|(2,[0],[1.0])|\n",
      "|2013-07-10|(145,[10],[1.0])|(2,[1],[1.0])| (6,[4],[1.0])| (18,[0],[1.0])|(5,[0],[1.0])|(8,[0],[1.0])|(4,[0],[1.0])|   (2,[0],[1.0])| (10,[0],[1.0])|(7,[0],[1.0])|   (2,[0],[1.0])|(2,[0],[1.0])|\n",
      "|2013-07-10|(145,[10],[1.0])|(2,[1],[1.0])| (6,[4],[1.0])| (18,[0],[1.0])|(5,[0],[1.0])|(8,[1],[1.0])|(4,[2],[1.0])|   (2,[0],[1.0])| (10,[0],[1.0])|(7,[0],[1.0])|   (2,[0],[1.0])|(2,[0],[1.0])|\n",
      "|2013-07-10|(145,[10],[1.0])|(2,[0],[1.0])| (6,[4],[1.0])| (18,[1],[1.0])|(5,[1],[1.0])|(8,[0],[1.0])|(4,[0],[1.0])|   (2,[0],[1.0])| (10,[0],[1.0])|(7,[0],[1.0])|   (2,[0],[1.0])|(2,[0],[1.0])|\n",
      "|2013-07-10|(145,[10],[1.0])|(2,[1],[1.0])| (6,[0],[1.0])| (18,[0],[1.0])|(5,[0],[1.0])|(8,[1],[1.0])|(4,[2],[1.0])|   (2,[0],[1.0])| (10,[0],[1.0])|(7,[0],[1.0])|   (2,[0],[1.0])|(2,[0],[1.0])|\n",
      "|2013-07-10|(145,[84],[1.0])|(2,[0],[1.0])| (6,[3],[1.0])| (18,[0],[1.0])|(5,[0],[1.0])|(8,[2],[1.0])|(4,[1],[1.0])|   (2,[0],[1.0])| (10,[0],[1.0])|(7,[0],[1.0])|   (2,[0],[1.0])|(2,[0],[1.0])|\n",
      "|2013-07-10|(145,[84],[1.0])|(2,[0],[1.0])| (6,[0],[1.0])| (18,[1],[1.0])|(5,[1],[1.0])|(8,[1],[1.0])|(4,[2],[1.0])|   (2,[0],[1.0])| (10,[0],[1.0])|(7,[0],[1.0])|   (2,[0],[1.0])|(2,[0],[1.0])|\n",
      "|2013-07-10|(145,[84],[1.0])|(2,[0],[1.0])| (6,[0],[1.0])| (18,[1],[1.0])|(5,[1],[1.0])|(8,[3],[1.0])|(4,[1],[1.0])|   (2,[0],[1.0])| (10,[0],[1.0])|(7,[0],[1.0])|   (2,[0],[1.0])|(2,[0],[1.0])|\n",
      "+----------+----------------+-------------+--------------+---------------+-------------+-------------+-------------+----------------+---------------+-------------+----------------+-------------+\n",
      "only showing top 20 rows"
     ]
    }
   ],
   "source": [
    "check_df.show()"
   ]
  }
 ],
 "metadata": {
  "kernelspec": {
   "display_name": "Python 3",
   "language": "python",
   "name": "python3"
  },
  "language_info": {
   "codemirror_mode": {
    "name": "ipython",
    "version": 3
   },
   "file_extension": ".py",
   "mimetype": "text/x-python",
   "name": "python",
   "nbconvert_exporter": "python",
   "pygments_lexer": "ipython3",
   "version": "3.8.2"
  }
 },
 "nbformat": 4,
 "nbformat_minor": 4
}
