{
 "cells": [
  {
   "cell_type": "markdown",
   "metadata": {},
   "source": [
    "## Configuration"
   ]
  },
  {
   "cell_type": "code",
   "execution_count": 1,
   "metadata": {},
   "outputs": [
    {
     "data": {
      "text/html": [
       "Current session configs: <tt>{'conf': {'spark.pyspark.python': 'python3', 'spark.pyspark.virtualenv.enabled': 'true', 'spark.pyspark.virtualenv.type': 'native', 'spark.pyspark.virtualenv.bin.path': '/usr/bin/virtualenv', 'spark.executor.heartbeatInterval': '10800s', 'spark.network.timeout': '24h', 'spark.driver.memory': '10G', 'spark.executor.memory': '10G', 'spark.executor.cores': '4', 'livy.server.session.timeout': '24h', 'spark.dynamicAllocation.enabled': 'false', 'spark.ext.h2o.fail.on.unsupported.spark.param': 'false', 'spark.app.name': '694'}, 'kind': 'pyspark'}</tt><br>"
      ],
      "text/plain": [
       "<IPython.core.display.HTML object>"
      ]
     },
     "metadata": {},
     "output_type": "display_data"
    },
    {
     "data": {
      "text/html": [
       "No active sessions."
      ],
      "text/plain": [
       "<IPython.core.display.HTML object>"
      ]
     },
     "metadata": {},
     "output_type": "display_data"
    }
   ],
   "source": [
    "%%configure -f \n",
    "{\n",
    "\"conf\":{\n",
    "        \"spark.pyspark.python\": \"python3\",\n",
    "        \"spark.pyspark.virtualenv.enabled\": \"true\",\n",
    "        \"spark.pyspark.virtualenv.type\":\"native\",\n",
    "        \"spark.pyspark.virtualenv.bin.path\":\"/usr/bin/virtualenv\",\n",
    "    \n",
    "        \"spark.executor.heartbeatInterval\":\"10800s\",\n",
    "        \"spark.network.timeout\":\"24h\",\n",
    "    \n",
    "        \"spark.driver.memory\": \"10G\",\n",
    "        \"spark.executor.memory\": \"10G\",\n",
    "        \"spark.executor.cores\":\"4\",\n",
    "    \n",
    "        \"livy.server.session.timeout\":\"24h\",\n",
    "    \n",
    "        \"spark.dynamicAllocation.enabled\":\"false\",\n",
    "        \"spark.ext.h2o.fail.on.unsupported.spark.param\":\"false\",    \n",
    "        \n",
    "        \"spark.app.name\":\"694\"\n",
    "      }\n",
    "}"
   ]
  },
  {
   "cell_type": "code",
   "execution_count": 2,
   "metadata": {},
   "outputs": [
    {
     "data": {
      "application/vnd.jupyter.widget-view+json": {
       "model_id": "4c467f83153648e1a12dbebe45086641",
       "version_major": 2,
       "version_minor": 0
      },
      "text/plain": [
       "VBox()"
      ]
     },
     "metadata": {},
     "output_type": "display_data"
    },
    {
     "name": "stdout",
     "output_type": "stream",
     "text": [
      "Starting Spark application\n"
     ]
    },
    {
     "data": {
      "text/html": [
       "<table>\n",
       "<tr><th>ID</th><th>YARN Application ID</th><th>Kind</th><th>State</th><th>Spark UI</th><th>Driver log</th><th>Current session?</th></tr><tr><td>30</td><td>application_1615332382624_0031</td><td>pyspark</td><td>idle</td><td><a target=\"_blank\" href=\"http://ip-172-31-8-193.ec2.internal:20888/proxy/application_1615332382624_0031/\">Link</a></td><td><a target=\"_blank\" href=\"http://ip-172-31-15-142.ec2.internal:8042/node/containerlogs/container_1615332382624_0031_01_000001/livy\">Link</a></td><td>✔</td></tr></table>"
      ],
      "text/plain": [
       "<IPython.core.display.HTML object>"
      ]
     },
     "metadata": {},
     "output_type": "display_data"
    },
    {
     "data": {
      "application/vnd.jupyter.widget-view+json": {
       "model_id": "",
       "version_major": 2,
       "version_minor": 0
      },
      "text/plain": [
       "FloatProgress(value=0.0, bar_style='info', description='Progress:', layout=Layout(height='25px', width='50%'),…"
      ]
     },
     "metadata": {},
     "output_type": "display_data"
    },
    {
     "name": "stdout",
     "output_type": "stream",
     "text": [
      "SparkSession available as 'spark'.\n"
     ]
    },
    {
     "data": {
      "application/vnd.jupyter.widget-view+json": {
       "model_id": "",
       "version_major": 2,
       "version_minor": 0
      },
      "text/plain": [
       "FloatProgress(value=0.0, bar_style='info', description='Progress:', layout=Layout(height='25px', width='50%'),…"
      ]
     },
     "metadata": {},
     "output_type": "display_data"
    },
    {
     "name": "stdout",
     "output_type": "stream",
     "text": [
      "<SparkContext master=yarn appName=694>"
     ]
    }
   ],
   "source": [
    "sc"
   ]
  },
  {
   "cell_type": "code",
   "execution_count": 3,
   "metadata": {
    "scrolled": true
   },
   "outputs": [
    {
     "data": {
      "application/vnd.jupyter.widget-view+json": {
       "model_id": "0390e5c0aab448778bdc5623e191ac52",
       "version_major": 2,
       "version_minor": 0
      },
      "text/plain": [
       "VBox()"
      ]
     },
     "metadata": {},
     "output_type": "display_data"
    },
    {
     "data": {
      "application/vnd.jupyter.widget-view+json": {
       "model_id": "",
       "version_major": 2,
       "version_minor": 0
      },
      "text/plain": [
       "FloatProgress(value=0.0, bar_style='info', description='Progress:', layout=Layout(height='25px', width='50%'),…"
      ]
     },
     "metadata": {},
     "output_type": "display_data"
    },
    {
     "name": "stdout",
     "output_type": "stream",
     "text": [
      "Collecting h2o-pysparkling-2.4\n",
      "  Using cached h2o_pysparkling_2.4-3.32.0.4.post1-py2.py3-none-any.whl\n",
      "Collecting tabulate\n",
      "  Using cached tabulate-0.8.9-py3-none-any.whl (25 kB)\n",
      "Collecting requests\n",
      "  Using cached requests-2.25.1-py2.py3-none-any.whl (61 kB)\n",
      "Collecting future\n",
      "  Using cached future-0.18.2-py3-none-any.whl\n",
      "Collecting colorama>=0.3.8\n",
      "  Using cached colorama-0.4.4-py2.py3-none-any.whl (16 kB)\n",
      "Collecting urllib3<1.27,>=1.21.1\n",
      "  Using cached urllib3-1.26.3-py2.py3-none-any.whl (137 kB)\n",
      "Collecting chardet<5,>=3.0.2\n",
      "  Using cached chardet-4.0.0-py2.py3-none-any.whl (178 kB)\n",
      "Collecting idna<3,>=2.5\n",
      "  Using cached idna-2.10-py2.py3-none-any.whl (58 kB)\n",
      "Collecting certifi>=2017.4.17\n",
      "  Using cached certifi-2020.12.5-py2.py3-none-any.whl (147 kB)\n",
      "Installing collected packages: urllib3, idna, chardet, certifi, tabulate, requests, future, colorama, h2o-pysparkling-2.4\n",
      "Successfully installed certifi-2020.12.5 chardet-4.0.0 colorama-0.4.4 future-0.18.2 h2o-pysparkling-2.4-3.32.0.4.post1 idna-2.10 requests-2.25.1 tabulate-0.8.9 urllib3-1.26.3\n",
      "\n",
      "Collecting h2o\n",
      "  Using cached h2o-3.32.0.4-py2.py3-none-any.whl\n",
      "Requirement already satisfied: tabulate in /mnt/tmp/1615485312683-0/lib/python3.6/site-packages (from h2o) (0.8.9)\n",
      "Requirement already satisfied: requests in /mnt/tmp/1615485312683-0/lib/python3.6/site-packages (from h2o) (2.25.1)\n",
      "Requirement already satisfied: future in /mnt/tmp/1615485312683-0/lib/python3.6/site-packages (from h2o) (0.18.2)\n",
      "Requirement already satisfied: colorama>=0.3.8 in /mnt/tmp/1615485312683-0/lib/python3.6/site-packages (from h2o) (0.4.4)\n",
      "Requirement already satisfied: urllib3<1.27,>=1.21.1 in /mnt/tmp/1615485312683-0/lib/python3.6/site-packages (from requests->h2o) (1.26.3)\n",
      "Requirement already satisfied: chardet<5,>=3.0.2 in /mnt/tmp/1615485312683-0/lib/python3.6/site-packages (from requests->h2o) (4.0.0)\n",
      "Requirement already satisfied: certifi>=2017.4.17 in /mnt/tmp/1615485312683-0/lib/python3.6/site-packages (from requests->h2o) (2020.12.5)\n",
      "Requirement already satisfied: idna<3,>=2.5 in /mnt/tmp/1615485312683-0/lib/python3.6/site-packages (from requests->h2o) (2.10)\n",
      "Installing collected packages: h2o\n",
      "Successfully installed h2o-3.32.0.4"
     ]
    }
   ],
   "source": [
    "sc.install_pypi_package(\"h2o-pysparkling-2.4\")\n",
    "sc.install_pypi_package(\"h2o\")"
   ]
  },
  {
   "cell_type": "markdown",
   "metadata": {},
   "source": [
    "## Data Processing for H2O"
   ]
  },
  {
   "cell_type": "code",
   "execution_count": 4,
   "metadata": {
    "ExecuteTime": {
     "end_time": "2021-03-07T20:55:53.553409Z",
     "start_time": "2021-03-07T20:55:45.009075Z"
    }
   },
   "outputs": [
    {
     "data": {
      "application/vnd.jupyter.widget-view+json": {
       "model_id": "e41d76b3024847478a4a74b60532b9a5",
       "version_major": 2,
       "version_minor": 0
      },
      "text/plain": [
       "VBox()"
      ]
     },
     "metadata": {},
     "output_type": "display_data"
    },
    {
     "data": {
      "application/vnd.jupyter.widget-view+json": {
       "model_id": "",
       "version_major": 2,
       "version_minor": 0
      },
      "text/plain": [
       "FloatProgress(value=0.0, bar_style='info', description='Progress:', layout=Layout(height='25px', width='50%'),…"
      ]
     },
     "metadata": {},
     "output_type": "display_data"
    },
    {
     "name": "stdout",
     "output_type": "stream",
     "text": [
      "Connecting to H2O server at http://ip-172-31-8-193.ec2.internal:54321 ... successful.\n",
      "--------------------------  -------------------------------------------------------------------------------------------------------\n",
      "H2O_cluster_uptime:         06 secs\n",
      "H2O_cluster_timezone:       UTC\n",
      "H2O_data_parsing_timezone:  UTC\n",
      "H2O_cluster_version:        3.32.0.4\n",
      "H2O_cluster_version_age:    1 month and 10 days\n",
      "H2O_cluster_name:           sparkling-water-livy_application_1615332382624_0031\n",
      "H2O_cluster_total_nodes:    1\n",
      "H2O_cluster_free_memory:    9.97 Gb\n",
      "H2O_cluster_total_cores:    4\n",
      "H2O_cluster_allowed_cores:  4\n",
      "H2O_cluster_status:         locked, healthy\n",
      "H2O_connection_url:         http://ip-172-31-8-193.ec2.internal:54321\n",
      "H2O_connection_proxy:       null\n",
      "H2O_internal_security:      False\n",
      "H2O_API_Extensions:         XGBoost, Algos, Amazon S3, Sparkling Water REST API Extensions, AutoML, Core V3, TargetEncoder, Core V4\n",
      "Python_version:             3.6.8 final\n",
      "--------------------------  -------------------------------------------------------------------------------------------------------\n",
      "\n",
      "Sparkling Water Context:\n",
      " * Sparkling Water Version: 3.32.0.4-1-2.4\n",
      " * H2O name: livy\n",
      " * cluster size: 1\n",
      " * list of used nodes:\n",
      "  (executorId, host, port)\n",
      "  ------------------------\n",
      "  (0,172.31.12.27,54321)\n",
      "  ------------------------\n",
      "\n",
      "  Open H2O Flow in browser: http://ip-172-31-8-193.ec2.internal:54321 (CMD + click in Mac OSX)\n",
      "\n",
      "    \n",
      " * Yarn App ID of Spark application: application_1615332382624_0031"
     ]
    }
   ],
   "source": [
    "import h2o\n",
    "from pyspark.sql import SparkSession\n",
    "from pysparkling import *\n",
    "\n",
    "ss = SparkSession.builder.getOrCreate()\n",
    "hc = H2OContext.getOrCreate()"
   ]
  },
  {
   "cell_type": "code",
   "execution_count": 5,
   "metadata": {},
   "outputs": [
    {
     "data": {
      "application/vnd.jupyter.widget-view+json": {
       "model_id": "24cc2b05a27d4c5b80f1d45029127773",
       "version_major": 2,
       "version_minor": 0
      },
      "text/plain": [
       "VBox()"
      ]
     },
     "metadata": {},
     "output_type": "display_data"
    },
    {
     "data": {
      "application/vnd.jupyter.widget-view+json": {
       "model_id": "",
       "version_major": 2,
       "version_minor": 0
      },
      "text/plain": [
       "FloatProgress(value=0.0, bar_style='info', description='Progress:', layout=Layout(height='25px', width='50%'),…"
      ]
     },
     "metadata": {},
     "output_type": "display_data"
    }
   ],
   "source": [
    "processed_df = ss.read.parquet(\"s3://msds694-finalprojects/processed_df\")"
   ]
  },
  {
   "cell_type": "code",
   "execution_count": 6,
   "metadata": {},
   "outputs": [
    {
     "data": {
      "application/vnd.jupyter.widget-view+json": {
       "model_id": "c1da192a9b4941dc960d4caa73266c95",
       "version_major": 2,
       "version_minor": 0
      },
      "text/plain": [
       "VBox()"
      ]
     },
     "metadata": {},
     "output_type": "display_data"
    },
    {
     "data": {
      "application/vnd.jupyter.widget-view+json": {
       "model_id": "",
       "version_major": 2,
       "version_minor": 0
      },
      "text/plain": [
       "FloatProgress(value=0.0, bar_style='info', description='Progress:', layout=Layout(height='25px', width='50%'),…"
      ]
     },
     "metadata": {},
     "output_type": "display_data"
    },
    {
     "name": "stdout",
     "output_type": "stream",
     "text": [
      "+-----------+----------------+----------------+-------------+--------------+---------------+-------------+-------------+-------------+----------------+---------------+-------------+\n",
      "|is_arrested|contraband_found|    location_raw|driver_gender|driver_age_raw|driver_race_raw|  driver_race|violation_raw|    violation|search_conducted|search_type_raw|  search_type|\n",
      "+-----------+----------------+----------------+-------------+--------------+---------------+-------------+-------------+-------------+----------------+---------------+-------------+\n",
      "|      FALSE|             0.0|(145,[10],[1.0])|(2,[0],[1.0])| (6,[4],[1.0])| (18,[4],[1.0])|(5,[4],[1.0])|(8,[1],[1.0])|(4,[2],[1.0])|   (2,[0],[1.0])| (10,[0],[1.0])|(7,[0],[1.0])|\n",
      "|      FALSE|             0.0|(145,[10],[1.0])|(2,[0],[1.0])| (6,[0],[1.0])| (18,[0],[1.0])|(5,[0],[1.0])|(8,[2],[1.0])|(4,[1],[1.0])|   (2,[0],[1.0])| (10,[0],[1.0])|(7,[0],[1.0])|\n",
      "|      FALSE|             0.0|(145,[10],[1.0])|(2,[1],[1.0])| (6,[3],[1.0])| (18,[1],[1.0])|(5,[1],[1.0])|(8,[1],[1.0])|(4,[2],[1.0])|   (2,[0],[1.0])| (10,[0],[1.0])|(7,[0],[1.0])|\n",
      "|      FALSE|             0.0|(145,[10],[1.0])|(2,[0],[1.0])| (6,[0],[1.0])| (18,[3],[1.0])|(5,[3],[1.0])|(8,[0],[1.0])|(4,[0],[1.0])|   (2,[0],[1.0])| (10,[0],[1.0])|(7,[0],[1.0])|\n",
      "|      FALSE|             0.0|(145,[10],[1.0])|(2,[1],[1.0])| (6,[4],[1.0])| (18,[0],[1.0])|(5,[0],[1.0])|(8,[0],[1.0])|(4,[0],[1.0])|   (2,[0],[1.0])| (10,[0],[1.0])|(7,[0],[1.0])|\n",
      "+-----------+----------------+----------------+-------------+--------------+---------------+-------------+-------------+-------------+----------------+---------------+-------------+\n",
      "only showing top 5 rows"
     ]
    }
   ],
   "source": [
    "processed_df.show(5)"
   ]
  },
  {
   "cell_type": "code",
   "execution_count": null,
   "metadata": {},
   "outputs": [
    {
     "data": {
      "application/vnd.jupyter.widget-view+json": {
       "model_id": "ff6f7a37c2504fec8eb0fb2529ca80bc",
       "version_major": 2,
       "version_minor": 0
      },
      "text/plain": [
       "VBox()"
      ]
     },
     "metadata": {},
     "output_type": "display_data"
    },
    {
     "data": {
      "application/vnd.jupyter.widget-view+json": {
       "model_id": "b8494d88611a45b9b3caa953176ffb61",
       "version_major": 2,
       "version_minor": 0
      },
      "text/plain": [
       "FloatProgress(value=0.0, bar_style='info', description='Progress:', layout=Layout(height='25px', width='50%'),…"
      ]
     },
     "metadata": {},
     "output_type": "display_data"
    }
   ],
   "source": [
    "df_h2o = hc.asH2OFrame(processed_df, \"process_df\")"
   ]
  },
  {
   "cell_type": "code",
   "execution_count": null,
   "metadata": {
    "ExecuteTime": {
     "end_time": "2021-03-07T20:57:24.182956Z",
     "start_time": "2021-03-07T20:57:24.179858Z"
    }
   },
   "outputs": [],
   "source": [
    "df_h2o['is_arrested'] = df_h2o['is_arrested'].asfactor()"
   ]
  },
  {
   "cell_type": "code",
   "execution_count": null,
   "metadata": {
    "ExecuteTime": {
     "end_time": "2021-03-07T20:57:25.301732Z",
     "start_time": "2021-03-07T20:57:24.185209Z"
    }
   },
   "outputs": [],
   "source": [
    "df_h2o.summary()"
   ]
  },
  {
   "cell_type": "code",
   "execution_count": null,
   "metadata": {
    "ExecuteTime": {
     "end_time": "2021-03-07T20:57:25.305358Z",
     "start_time": "2021-03-07T20:57:25.302963Z"
    }
   },
   "outputs": [],
   "source": [
    "predictors = df_h2o.names[:]\n",
    "response = \"is_arrested\"\n",
    "predictors.remove(response)"
   ]
  },
  {
   "cell_type": "code",
   "execution_count": null,
   "metadata": {
    "ExecuteTime": {
     "end_time": "2021-03-07T20:57:25.311666Z",
     "start_time": "2021-03-07T20:57:25.306667Z"
    }
   },
   "outputs": [],
   "source": [
    "predictors"
   ]
  },
  {
   "cell_type": "markdown",
   "metadata": {},
   "source": [
    "## Split DataFrame into training and validation set"
   ]
  },
  {
   "cell_type": "code",
   "execution_count": null,
   "metadata": {
    "ExecuteTime": {
     "end_time": "2021-03-07T20:57:25.358657Z",
     "start_time": "2021-03-07T20:57:25.312876Z"
    }
   },
   "outputs": [],
   "source": [
    "df = hc.asSparkFrame(df_h2o)"
   ]
  },
  {
   "cell_type": "code",
   "execution_count": null,
   "metadata": {
    "ExecuteTime": {
     "end_time": "2021-03-07T20:57:25.508216Z",
     "start_time": "2021-03-07T20:57:25.360388Z"
    }
   },
   "outputs": [],
   "source": [
    "dftsets = df.randomSplit([0.8, 0.2], 1)\n",
    "train = dftsets[0]\n",
    "valid = dftsets[1]"
   ]
  },
  {
   "cell_type": "code",
   "execution_count": null,
   "metadata": {
    "ExecuteTime": {
     "end_time": "2021-03-07T21:03:08.522851Z",
     "start_time": "2021-03-07T20:57:25.510952Z"
    }
   },
   "outputs": [],
   "source": [
    "train_h2o = hc.asH2OFrame(train, \"train_df\")\n",
    "valid_h2o = hc.asH2OFrame(valid, \"valid_df\")"
   ]
  },
  {
   "cell_type": "markdown",
   "metadata": {},
   "source": [
    "## Fit RandomForest model using H2O "
   ]
  },
  {
   "cell_type": "code",
   "execution_count": null,
   "metadata": {
    "ExecuteTime": {
     "end_time": "2021-03-07T21:06:45.648785Z",
     "start_time": "2021-03-07T21:06:45.646078Z"
    }
   },
   "outputs": [],
   "source": [
    "from h2o.estimators.random_forest import H2ORandomForestEstimator"
   ]
  },
  {
   "cell_type": "code",
   "execution_count": null,
   "metadata": {
    "ExecuteTime": {
     "end_time": "2021-03-07T21:50:37.434613Z",
     "start_time": "2021-03-07T21:50:37.426845Z"
    }
   },
   "outputs": [],
   "source": [
    "model_rf = H2ORandomForestEstimator(ntrees=30, max_depth=10, seed=1, nfolds=5)"
   ]
  },
  {
   "cell_type": "code",
   "execution_count": null,
   "metadata": {
    "ExecuteTime": {
     "end_time": "2021-03-07T23:31:12.752447Z",
     "start_time": "2021-03-07T21:50:46.799845Z"
    },
    "scrolled": true
   },
   "outputs": [],
   "source": [
    "model_rf.train(x=predictors,\n",
    "               y=response,\n",
    "               training_frame=train_h2o,\n",
    "               validation_frame=valid_h2o)\n",
    "\n"
   ]
  },
  {
   "cell_type": "code",
   "execution_count": null,
   "metadata": {},
   "outputs": [],
   "source": [
    "model_rf.confusion_matrix(valid=True)"
   ]
  },
  {
   "cell_type": "code",
   "execution_count": null,
   "metadata": {},
   "outputs": [],
   "source": [
    "print(round(model_rf.auc(train=True),3))"
   ]
  },
  {
   "cell_type": "markdown",
   "metadata": {},
   "source": [
    "## Fit an XGBoost model using H2O"
   ]
  },
  {
   "cell_type": "code",
   "execution_count": 15,
   "metadata": {},
   "outputs": [
    {
     "data": {
      "application/vnd.jupyter.widget-view+json": {
       "model_id": "9b1d810394fb4a19897395e3c33c8dcd",
       "version_major": 2,
       "version_minor": 0
      },
      "text/plain": [
       "VBox()"
      ]
     },
     "metadata": {},
     "output_type": "display_data"
    },
    {
     "data": {
      "application/vnd.jupyter.widget-view+json": {
       "model_id": "",
       "version_major": 2,
       "version_minor": 0
      },
      "text/plain": [
       "FloatProgress(value=0.0, bar_style='info', description='Progress:', layout=Layout(height='25px', width='50%'),…"
      ]
     },
     "metadata": {},
     "output_type": "display_data"
    },
    {
     "name": "stdout",
     "output_type": "stream",
     "text": [
      "xgboost Model Build progress: [###########################################] 100%"
     ]
    }
   ],
   "source": [
    "from h2o.estimators.xgboost import H2OXGBoostEstimator\n",
    "\n",
    "model_xg = H2OXGBoostEstimator()\n",
    "model_xg.train(x=predictors,\n",
    "               y=\"is_arrested\",\n",
    "               training_frame=train_h2o,\n",
    "               validation_frame=valid_h2o)\n"
   ]
  },
  {
   "cell_type": "code",
   "execution_count": 16,
   "metadata": {},
   "outputs": [
    {
     "data": {
      "application/vnd.jupyter.widget-view+json": {
       "model_id": "6c5022db395b493db0932a5fd7564b3b",
       "version_major": 2,
       "version_minor": 0
      },
      "text/plain": [
       "VBox()"
      ]
     },
     "metadata": {},
     "output_type": "display_data"
    },
    {
     "data": {
      "application/vnd.jupyter.widget-view+json": {
       "model_id": "",
       "version_major": 2,
       "version_minor": 0
      },
      "text/plain": [
       "FloatProgress(value=0.0, bar_style='info', description='Progress:', layout=Layout(height='25px', width='50%'),…"
      ]
     },
     "metadata": {},
     "output_type": "display_data"
    },
    {
     "name": "stdout",
     "output_type": "stream",
     "text": [
      "\n",
      "Confusion Matrix (Act/Pred) for max f1 @ threshold = 0.41104772116275545: \n",
      "       FALSE        TRUE    Error    Rate\n",
      "-----  -----------  ------  -------  -------------------\n",
      "FALSE  2.83022e+06  2462    0.0009   (2462.0/2832687.0)\n",
      "TRUE   17885        55577   0.2435   (17885.0/73462.0)\n",
      "Total  2.84811e+06  58039   0.007    (20347.0/2906149.0)"
     ]
    }
   ],
   "source": [
    "model_xg.confusion_matrix(valid=True)\n"
   ]
  },
  {
   "cell_type": "code",
   "execution_count": 17,
   "metadata": {},
   "outputs": [
    {
     "data": {
      "application/vnd.jupyter.widget-view+json": {
       "model_id": "6e001d44e1d844e99c2d9c6c05346f1c",
       "version_major": 2,
       "version_minor": 0
      },
      "text/plain": [
       "VBox()"
      ]
     },
     "metadata": {},
     "output_type": "display_data"
    },
    {
     "data": {
      "application/vnd.jupyter.widget-view+json": {
       "model_id": "",
       "version_major": 2,
       "version_minor": 0
      },
      "text/plain": [
       "FloatProgress(value=0.0, bar_style='info', description='Progress:', layout=Layout(height='25px', width='50%'),…"
      ]
     },
     "metadata": {},
     "output_type": "display_data"
    },
    {
     "name": "stdout",
     "output_type": "stream",
     "text": [
      "0.95"
     ]
    }
   ],
   "source": [
    "print(round(model_xg.auc(train=True),3))"
   ]
  },
  {
   "cell_type": "markdown",
   "metadata": {},
   "source": [
    "## Fit an deeplearning model using H2O "
   ]
  },
  {
   "cell_type": "code",
   "execution_count": 18,
   "metadata": {},
   "outputs": [
    {
     "data": {
      "application/vnd.jupyter.widget-view+json": {
       "model_id": "7198a4f8d3a1427fa6eae845a0a9e967",
       "version_major": 2,
       "version_minor": 0
      },
      "text/plain": [
       "VBox()"
      ]
     },
     "metadata": {},
     "output_type": "display_data"
    },
    {
     "data": {
      "application/vnd.jupyter.widget-view+json": {
       "model_id": "",
       "version_major": 2,
       "version_minor": 0
      },
      "text/plain": [
       "FloatProgress(value=0.0, bar_style='info', description='Progress:', layout=Layout(height='25px', width='50%'),…"
      ]
     },
     "metadata": {},
     "output_type": "display_data"
    },
    {
     "name": "stdout",
     "output_type": "stream",
     "text": [
      "deeplearning Model Build progress: [######################################] 100%"
     ]
    }
   ],
   "source": [
    "from h2o.estimators.deeplearning import H2ODeepLearningEstimator\n",
    "\n",
    "model_dl = H2ODeepLearningEstimator(variable_importances=True,\n",
    "                                    loss=\"Automatic\",nfolds=5,max_runtime_secs=1000,seed=1)\n",
    "\n",
    "model_dl.train(x=predictors,\n",
    "               y=\"is_arrested\",\n",
    "               training_frame=train_h2o,\n",
    "               validation_frame=valid_h2o)\n",
    "\n"
   ]
  },
  {
   "cell_type": "code",
   "execution_count": 19,
   "metadata": {},
   "outputs": [
    {
     "data": {
      "application/vnd.jupyter.widget-view+json": {
       "model_id": "02c06b6e72e340af94ec8ed9d676ad44",
       "version_major": 2,
       "version_minor": 0
      },
      "text/plain": [
       "VBox()"
      ]
     },
     "metadata": {},
     "output_type": "display_data"
    },
    {
     "data": {
      "application/vnd.jupyter.widget-view+json": {
       "model_id": "",
       "version_major": 2,
       "version_minor": 0
      },
      "text/plain": [
       "FloatProgress(value=0.0, bar_style='info', description='Progress:', layout=Layout(height='25px', width='50%'),…"
      ]
     },
     "metadata": {},
     "output_type": "display_data"
    },
    {
     "name": "stdout",
     "output_type": "stream",
     "text": [
      "\n",
      "Confusion Matrix (Act/Pred) for max f1 @ threshold = 0.9762762197705446: \n",
      "       FALSE        TRUE    Error    Rate\n",
      "-----  -----------  ------  -------  -------------------\n",
      "FALSE  2.82783e+06  4856    0.0017   (4856.0/2832687.0)\n",
      "TRUE   19812        53650   0.2697   (19812.0/73462.0)\n",
      "Total  2.84764e+06  58506   0.0085   (24668.0/2906149.0)"
     ]
    }
   ],
   "source": [
    "model_dl.confusion_matrix(valid=True)\n"
   ]
  },
  {
   "cell_type": "code",
   "execution_count": 20,
   "metadata": {},
   "outputs": [
    {
     "data": {
      "application/vnd.jupyter.widget-view+json": {
       "model_id": "aa457feadf094e1fbde14cb01296104d",
       "version_major": 2,
       "version_minor": 0
      },
      "text/plain": [
       "VBox()"
      ]
     },
     "metadata": {},
     "output_type": "display_data"
    },
    {
     "data": {
      "application/vnd.jupyter.widget-view+json": {
       "model_id": "",
       "version_major": 2,
       "version_minor": 0
      },
      "text/plain": [
       "FloatProgress(value=0.0, bar_style='info', description='Progress:', layout=Layout(height='25px', width='50%'),…"
      ]
     },
     "metadata": {},
     "output_type": "display_data"
    },
    {
     "name": "stdout",
     "output_type": "stream",
     "text": [
      "0.919"
     ]
    }
   ],
   "source": [
    "print(round(model_dl.auc(train=True),3))"
   ]
  },
  {
   "cell_type": "markdown",
   "metadata": {},
   "source": [
    "## Fit GradientBoosting model using H2O "
   ]
  },
  {
   "cell_type": "code",
   "execution_count": 21,
   "metadata": {},
   "outputs": [
    {
     "data": {
      "application/vnd.jupyter.widget-view+json": {
       "model_id": "c7d4fab07dec4604898090df62bd9e7b",
       "version_major": 2,
       "version_minor": 0
      },
      "text/plain": [
       "VBox()"
      ]
     },
     "metadata": {},
     "output_type": "display_data"
    },
    {
     "data": {
      "application/vnd.jupyter.widget-view+json": {
       "model_id": "",
       "version_major": 2,
       "version_minor": 0
      },
      "text/plain": [
       "FloatProgress(value=0.0, bar_style='info', description='Progress:', layout=Layout(height='25px', width='50%'),…"
      ]
     },
     "metadata": {},
     "output_type": "display_data"
    },
    {
     "name": "stdout",
     "output_type": "stream",
     "text": [
      "gbm Model Build progress: [###############################################] 100%"
     ]
    }
   ],
   "source": [
    "from h2o.estimators.gbm import H2OGradientBoostingEstimator\n",
    "\n",
    "model_gbm = H2OGradientBoostingEstimator()\n",
    "model_gbm.train(x=predictors,\n",
    "               y=\"is_arrested\",\n",
    "               training_frame=train_h2o,\n",
    "               validation_frame=valid_h2o)\n",
    "\n"
   ]
  },
  {
   "cell_type": "code",
   "execution_count": 22,
   "metadata": {},
   "outputs": [
    {
     "data": {
      "application/vnd.jupyter.widget-view+json": {
       "model_id": "f298c97eef38412c9a79e7bca7ec112b",
       "version_major": 2,
       "version_minor": 0
      },
      "text/plain": [
       "VBox()"
      ]
     },
     "metadata": {},
     "output_type": "display_data"
    },
    {
     "data": {
      "application/vnd.jupyter.widget-view+json": {
       "model_id": "",
       "version_major": 2,
       "version_minor": 0
      },
      "text/plain": [
       "FloatProgress(value=0.0, bar_style='info', description='Progress:', layout=Layout(height='25px', width='50%'),…"
      ]
     },
     "metadata": {},
     "output_type": "display_data"
    },
    {
     "name": "stdout",
     "output_type": "stream",
     "text": [
      "\n",
      "Confusion Matrix (Act/Pred) for max f1 @ threshold = 0.37661218578846384: \n",
      "       FALSE        TRUE    Error    Rate\n",
      "-----  -----------  ------  -------  -------------------\n",
      "FALSE  2.83014e+06  2547    0.0009   (2547.0/2832687.0)\n",
      "TRUE   17921        55541   0.2439   (17921.0/73462.0)\n",
      "Total  2.84806e+06  58088   0.007    (20468.0/2906149.0)"
     ]
    }
   ],
   "source": [
    "model_gbm.confusion_matrix(valid=True)"
   ]
  },
  {
   "cell_type": "code",
   "execution_count": 23,
   "metadata": {},
   "outputs": [
    {
     "data": {
      "application/vnd.jupyter.widget-view+json": {
       "model_id": "c0311ceb38c04d248a12cf6f69ddd893",
       "version_major": 2,
       "version_minor": 0
      },
      "text/plain": [
       "VBox()"
      ]
     },
     "metadata": {},
     "output_type": "display_data"
    },
    {
     "data": {
      "application/vnd.jupyter.widget-view+json": {
       "model_id": "",
       "version_major": 2,
       "version_minor": 0
      },
      "text/plain": [
       "FloatProgress(value=0.0, bar_style='info', description='Progress:', layout=Layout(height='25px', width='50%'),…"
      ]
     },
     "metadata": {},
     "output_type": "display_data"
    },
    {
     "name": "stdout",
     "output_type": "stream",
     "text": [
      "0.945"
     ]
    }
   ],
   "source": [
    "print(round(model_gbm.auc(train=True),3))"
   ]
  }
 ],
 "metadata": {
  "kernelspec": {
   "display_name": "Python 3",
   "language": "python",
   "name": "python3"
  },
  "language_info": {
   "codemirror_mode": {
    "name": "ipython",
    "version": 3
   },
   "file_extension": ".py",
   "mimetype": "text/x-python",
   "name": "python",
   "nbconvert_exporter": "python",
   "pygments_lexer": "ipython3",
   "version": "3.8.2"
  }
 },
 "nbformat": 4,
 "nbformat_minor": 4
}
